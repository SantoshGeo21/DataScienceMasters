{
 "cells": [
  {
   "cell_type": "markdown",
   "id": "190cccaf-025d-4974-83e2-4d5029fd95f9",
   "metadata": {},
   "source": [
    "#Oops#"
   ]
  },
  {
   "cell_type": "code",
   "execution_count": null,
   "id": "92cf02b1-72b7-4ec0-a3f9-227ba87f086c",
   "metadata": {},
   "outputs": [],
   "source": [
    "'''\n",
    "Q.1 Ans:- \n",
    "     'Class'- In object-oriented programming, a class is a blueprint for creating objects (a particular data structure), \n",
    "     providing initial values for state (member variables or attributes), and implementations of behavior (member functions \n",
    "     or methods). The user-defined objects are created using the class keyword and all other things defined under the class.\n",
    "     Ex:- For an employee class, It should contain an attribute and method, i.e. an email id, name, age, salary, etc.\n",
    "     \n",
    "     'Object'- Objects are like the components of a system which plays an important role to form a class. Significance of class\n",
    "      depends on its objects.\n",
    "      In the above example:- email ID,name,age, salary are separate objects of the Class employee.\n"
   ]
  },
  {
   "cell_type": "code",
   "execution_count": 1,
   "id": "90f0233d-1e68-4b5f-85a4-b732e94848fc",
   "metadata": {},
   "outputs": [],
   "source": [
    "#Programming Example\n",
    "class employee:\n",
    "    \n",
    "    def __init__(self ,phone_number , email_id, student_id ): #Objects mentioned\n",
    "        \n",
    "        self.phone_number = phone_number\n",
    "        self.email_id = email_id\n",
    "        self.student_id = student_id\n",
    "        \n",
    "    \n",
    "    def return_student_detials(self):\n",
    "        return self.phone_number, self.email_id , self.student_id"
   ]
  },
  {
   "cell_type": "code",
   "execution_count": null,
   "id": "5d358a0d-8d15-42c5-bc06-de709b0bdbf2",
   "metadata": {},
   "outputs": [],
   "source": [
    "'''\n",
    "Q.2 Ans- Following are the four pillars of Oops:-\n",
    "         a.Inheritance\n",
    "         b.Polymorphism\n",
    "         c.Encapsulation\n",
    "         d.Abstraction"
   ]
  },
  {
   "cell_type": "code",
   "execution_count": null,
   "id": "5da9e279-f84d-4f44-a268-c0a37e5a5355",
   "metadata": {},
   "outputs": [],
   "source": [
    "'''\n",
    "Q.3 Ans- '__init__()' function is a constructor in an object oriented approach.This function is callled everytime an object is\n",
    "          created from a class. This function lets the class initialize the object's attribute and serves no other purpose.It\n",
    "          is only used with in the classes.\n",
    "          \n",
    "class Car:                   \n",
    " \n",
    "def __init__(self,Red,Automatic):\n",
    "  \n",
    "    self.color = Carcolor       \n",
    "    self.transmission = CarAutomatic...\n",
    "    \n",
    "         First, we declare the class Car using the keyword class. We use the keyword def to define a function or method, \n",
    "         such as the __init__ method. As you can see, the __init__ method initializes two attributes: color and Transmission."
   ]
  },
  {
   "cell_type": "code",
   "execution_count": null,
   "id": "073301e5-62bb-47d3-bf8f-bfe621703da7",
   "metadata": {},
   "outputs": [],
   "source": [
    "'''\n",
    "Q.4 Ans- 'self'represents the instance of the class. By using the “self” we can access the attributes and methods of the class\n",
    "          in python. It binds the attributes with the given arguments.Its not mandatory to use self keyword, we can use any \n",
    "          suitable keyword which refer our objects to our assigned class."
   ]
  },
  {
   "cell_type": "code",
   "execution_count": null,
   "id": "6c6d5591-43af-4f9e-9aea-af868ef6d302",
   "metadata": {},
   "outputs": [],
   "source": [
    "'''\n",
    "Q.5 Ans- 'Inheritance' is defined as the mechanism of inheriting the properties of the base class to the child class. \n",
    "          Following are the different types:-\n",
    "          a.Single Inheritance:-\n",
    "            Single inheritance enables a derived class to inherit properties from a single parent class, thus enabling code \n",
    "            reusability and the addition of new features to existing code."
   ]
  },
  {
   "cell_type": "code",
   "execution_count": 2,
   "id": "625aaddd-f184-476c-bb2a-ec3eae58469b",
   "metadata": {},
   "outputs": [
    {
     "name": "stdout",
     "output_type": "stream",
     "text": [
      "This function is in parent class.\n",
      "This function is in child class.\n"
     ]
    }
   ],
   "source": [
    "# Python program to demonstrate\n",
    "# single inheritance\n",
    "\n",
    "# Base class\n",
    "class Parent:\n",
    "\tdef func1(self):\n",
    "\t\tprint(\"This function is in parent class.\")\n",
    "\n",
    "# Derived class\n",
    "\n",
    "\n",
    "class Child(Parent):\n",
    "\tdef func2(self):\n",
    "\t\tprint(\"This function is in child class.\")\n",
    "\n",
    "\n",
    "# Driver's code\n",
    "object = Child()\n",
    "object.func1()\n",
    "object.func2()\n"
   ]
  },
  {
   "cell_type": "code",
   "execution_count": null,
   "id": "3d585cb2-d9a3-424a-8ee0-82a67c501989",
   "metadata": {},
   "outputs": [],
   "source": [
    "'''        b.Multiple Inheritance:-\n",
    "           When a class can be derived from more than one base class this type of inheritance is called multiple inheritances.\n",
    "           In multiple inheritances, all the features of the base classes are inherited into the derived class. "
   ]
  },
  {
   "cell_type": "code",
   "execution_count": 3,
   "id": "f3237b5b-b0e3-4e9b-8ac3-9b172d8bfb3f",
   "metadata": {},
   "outputs": [
    {
     "name": "stdout",
     "output_type": "stream",
     "text": [
      "Father : RAM\n",
      "Mother : SITA\n"
     ]
    }
   ],
   "source": [
    "# Python program to demonstrate\n",
    "# multiple inheritance\n",
    "\n",
    "# Base class1\n",
    "class Mother:\n",
    "\tmothername = \"\"\n",
    "\n",
    "\tdef mother(self):\n",
    "\t\tprint(self.mothername)\n",
    "\n",
    "# Base class2\n",
    "\n",
    "\n",
    "class Father:\n",
    "\tfathername = \"\"\n",
    "\n",
    "\tdef father(self):\n",
    "\t\tprint(self.fathername)\n",
    "\n",
    "# Derived class\n",
    "\n",
    "\n",
    "class Son(Mother, Father):\n",
    "\tdef parents(self):\n",
    "\t\tprint(\"Father :\", self.fathername)\n",
    "\t\tprint(\"Mother :\", self.mothername)\n",
    "\n",
    "\n",
    "# Driver's code\n",
    "s1 = Son()\n",
    "s1.fathername = \"RAM\"\n",
    "s1.mothername = \"SITA\"\n",
    "s1.parents()\n"
   ]
  },
  {
   "cell_type": "code",
   "execution_count": null,
   "id": "47d94d8a-0d36-499f-8600-517d6ee70ba0",
   "metadata": {},
   "outputs": [],
   "source": [
    "'''        c.Multilevel Inheritance:-\n",
    "            In multilevel inheritance, features of the base class and the derived class are further inherited into the new \n",
    "            derived class. This is similar to a relationship representing a child and a grandfather."
   ]
  },
  {
   "cell_type": "code",
   "execution_count": 4,
   "id": "b0c40888-ed86-43dd-b63f-bf2ba9f81ded",
   "metadata": {},
   "outputs": [
    {
     "name": "stdout",
     "output_type": "stream",
     "text": [
      "Lal mani\n",
      "Grandfather name : Lal mani\n",
      "Father name : Rampal\n",
      "Son name : Prince\n"
     ]
    }
   ],
   "source": [
    "# Python program to demonstrate\n",
    "# multilevel inheritance\n",
    "\n",
    "# Base class\n",
    "\n",
    "\n",
    "class Grandfather:\n",
    "\n",
    "\tdef __init__(self, grandfathername):\n",
    "\t\tself.grandfathername = grandfathername\n",
    "\n",
    "# Intermediate class\n",
    "\n",
    "\n",
    "class Father(Grandfather):\n",
    "\tdef __init__(self, fathername, grandfathername):\n",
    "\t\tself.fathername = fathername\n",
    "\n",
    "\t\t# invoking constructor of Grandfather class\n",
    "\t\tGrandfather.__init__(self, grandfathername)\n",
    "\n",
    "# Derived class\n",
    "\n",
    "\n",
    "class Son(Father):\n",
    "\tdef __init__(self, sonname, fathername, grandfathername):\n",
    "\t\tself.sonname = sonname\n",
    "\n",
    "\t\t# invoking constructor of Father class\n",
    "\t\tFather.__init__(self, fathername, grandfathername)\n",
    "\n",
    "\tdef print_name(self):\n",
    "\t\tprint('Grandfather name :', self.grandfathername)\n",
    "\t\tprint(\"Father name :\", self.fathername)\n",
    "\t\tprint(\"Son name :\", self.sonname)\n",
    "\n",
    "\n",
    "# Driver code\n",
    "s1 = Son('Prince', 'Rampal', 'Lal mani')\n",
    "print(s1.grandfathername)\n",
    "s1.print_name()\n"
   ]
  },
  {
   "cell_type": "code",
   "execution_count": null,
   "id": "e4a600b1-233b-4109-9c06-ecad04c6edb4",
   "metadata": {},
   "outputs": [],
   "source": [
    " '''          d.Hierarchical Inheritance:-\n",
    "               When more than one derived class are created from a single base this type of inheritance is called hierarchical \n",
    "               inheritance. In this program, we have a parent (base) class and two child (derived) classes."
   ]
  },
  {
   "cell_type": "code",
   "execution_count": 5,
   "id": "ab585935-cb99-415e-99c8-b8eac0cb2971",
   "metadata": {},
   "outputs": [
    {
     "name": "stdout",
     "output_type": "stream",
     "text": [
      "This function is in parent class.\n",
      "This function is in child 1.\n",
      "This function is in parent class.\n",
      "This function is in child 2.\n"
     ]
    }
   ],
   "source": [
    "# Python program to demonstrate\n",
    "# Hierarchical inheritance\n",
    "\n",
    "\n",
    "# Base class\n",
    "class Parent:\n",
    "\tdef func1(self):\n",
    "\t\tprint(\"This function is in parent class.\")\n",
    "\n",
    "# Derived class1\n",
    "\n",
    "\n",
    "class Child1(Parent):\n",
    "\tdef func2(self):\n",
    "\t\tprint(\"This function is in child 1.\")\n",
    "\n",
    "# Derivied class2\n",
    "\n",
    "\n",
    "class Child2(Parent):\n",
    "\tdef func3(self):\n",
    "\t\tprint(\"This function is in child 2.\")\n",
    "\n",
    "\n",
    "# Driver's code\n",
    "object1 = Child1()\n",
    "object2 = Child2()\n",
    "object1.func1()\n",
    "object1.func2()\n",
    "object2.func1()\n",
    "object2.func3()\n"
   ]
  },
  {
   "cell_type": "code",
   "execution_count": null,
   "id": "6991d6e6-af73-4f80-b15e-354edcda727c",
   "metadata": {},
   "outputs": [],
   "source": [
    "'''      e.Hybrid Inheritance:-\n",
    "           Inheritance consisting of multiple types of inheritance is called hybrid inheritance."
   ]
  },
  {
   "cell_type": "code",
   "execution_count": 6,
   "id": "16027607-c2c2-4c2b-a9c8-509e451de7ad",
   "metadata": {},
   "outputs": [
    {
     "name": "stdout",
     "output_type": "stream",
     "text": [
      "This function is in school.\n",
      "This function is in student 1. \n"
     ]
    }
   ],
   "source": [
    "# Python program to demonstrate\n",
    "# hybrid inheritance\n",
    "\n",
    "\n",
    "class School:\n",
    "\tdef func1(self):\n",
    "\t\tprint(\"This function is in school.\")\n",
    "\n",
    "\n",
    "class Student1(School):\n",
    "\tdef func2(self):\n",
    "\t\tprint(\"This function is in student 1. \")\n",
    "\n",
    "\n",
    "class Student2(School):\n",
    "\tdef func3(self):\n",
    "\t\tprint(\"This function is in student 2.\")\n",
    "\n",
    "\n",
    "class Student3(Student1, School):\n",
    "\tdef func4(self):\n",
    "\t\tprint(\"This function is in student 3.\")\n",
    "\n",
    "\n",
    "# Driver's code\n",
    "object = Student3()\n",
    "object.func1()\n",
    "object.func2()\n"
   ]
  },
  {
   "cell_type": "code",
   "execution_count": null,
   "id": "e32650ca-1c82-441d-98d1-d2383d7ffe5b",
   "metadata": {},
   "outputs": [],
   "source": []
  }
 ],
 "metadata": {
  "kernelspec": {
   "display_name": "Python 3 (ipykernel)",
   "language": "python",
   "name": "python3"
  },
  "language_info": {
   "codemirror_mode": {
    "name": "ipython",
    "version": 3
   },
   "file_extension": ".py",
   "mimetype": "text/x-python",
   "name": "python",
   "nbconvert_exporter": "python",
   "pygments_lexer": "ipython3",
   "version": "3.10.8"
  }
 },
 "nbformat": 4,
 "nbformat_minor": 5
}
