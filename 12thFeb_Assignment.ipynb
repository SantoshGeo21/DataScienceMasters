{
 "cells": [
  {
   "cell_type": "code",
   "execution_count": null,
   "id": "37059b89-425e-4f7b-adba-50b63faac739",
   "metadata": {},
   "outputs": [],
   "source": [
    "#Q.1 Ans:-\n",
    "'''\n",
    "An unwanted and unexpected event that disturb the normal flow of a program execution is called exception and in any programming \n",
    "its very important to handle it carefully.\n",
    "Here are the major difference between exception and Syntax error:-\n",
    "i.) Timing-\n",
    "Exception occurs during execution of program.\n",
    "A syntax error is when something goes wrong during parsing.\n",
    "ii.) Reason-\n",
    "Exception occurs when there is programming logic issue.\n",
    "A syntax error occurs when wrong sintax is used."
   ]
  },
  {
   "cell_type": "code",
   "execution_count": 2,
   "id": "f1849d61-23c9-4e25-bc20-589009f674ae",
   "metadata": {},
   "outputs": [
    {
     "ename": "ZeroDivisionError",
     "evalue": "division by zero",
     "output_type": "error",
     "traceback": [
      "\u001b[0;31m---------------------------------------------------------------------------\u001b[0m",
      "\u001b[0;31mZeroDivisionError\u001b[0m                         Traceback (most recent call last)",
      "Cell \u001b[0;32mIn[2], line 10\u001b[0m\n\u001b[1;32m      8\u001b[0m marks \u001b[38;5;241m=\u001b[39m \u001b[38;5;241m90\u001b[39m\n\u001b[1;32m      9\u001b[0m \u001b[38;5;66;03m# perform division with 0\u001b[39;00m\n\u001b[0;32m---> 10\u001b[0m a \u001b[38;5;241m=\u001b[39m \u001b[43mmarks\u001b[49m\u001b[43m \u001b[49m\u001b[38;5;241;43m/\u001b[39;49m\u001b[43m \u001b[49m\u001b[38;5;241;43m0\u001b[39;49m\n\u001b[1;32m     11\u001b[0m \u001b[38;5;28mprint\u001b[39m(a)\n",
      "\u001b[0;31mZeroDivisionError\u001b[0m: division by zero"
     ]
    }
   ],
   "source": [
    "#Q.2 Ans:-\n",
    "'''\n",
    "When exception is not get handled first of all it disturb the flow of programming and complete programme will not get executed.\n",
    "Also the reader unable to figure it out that what caused the issue.\n",
    "\n",
    "Ex:-\n",
    "'''\n",
    "marks = 90\n",
    "# perform division with 0\n",
    "a = marks / 0\n",
    "print(a)\n",
    "\n",
    "'''\n",
    "---------------------------------------------------------------------------\n",
    "ZeroDivisionError                         Traceback (most recent call last)\n",
    "Cell In[2], line 10\n",
    "      8 marks = 90\n",
    "      9 # perform division with 0\n",
    "---> 10 a = marks / 0\n",
    "     11 print(a)\n",
    "\n",
    "ZeroDivisionError: division by zero\n",
    "'''"
   ]
  },
  {
   "cell_type": "code",
   "execution_count": 4,
   "id": "7b8d5aba-1909-484f-a48e-776e94d02df4",
   "metadata": {},
   "outputs": [
    {
     "name": "stdout",
     "output_type": "stream",
     "text": [
      "Exception is handled\n"
     ]
    }
   ],
   "source": [
    "#Q.3 Ans:-\n",
    "'''\n",
    "try:\n",
    "    Risky Code\n",
    "except XYZ:\n",
    "    Handling code/Alternative Code\n",
    "'''\n",
    "#The try-except block is used to handle exception\n",
    "\n",
    "try:\n",
    "    marks = 90\n",
    "    # perform division with 0\n",
    "    a = marks / 0\n",
    "    print(a)\n",
    "except:\n",
    "    print('Exception is handled')"
   ]
  },
  {
   "cell_type": "code",
   "execution_count": null,
   "id": "3d3442f0-8599-4bbc-9c2d-94a3aa651bba",
   "metadata": {},
   "outputs": [],
   "source": [
    "#Q.4 Ans:-\n",
    "'''\n",
    "\"try-except\"\n",
    "To handle exception and proper execution of program we put Risky code inside \"try-except\" block.\n",
    "'''\n",
    "try:\n",
    "    marks = 90\n",
    "    a = marks / 0\n",
    "    print(a)\n",
    "except:\n",
    "    print('Exception is handled')"
   ]
  },
  {
   "cell_type": "code",
   "execution_count": 8,
   "id": "029e8c17-e95c-49ae-a178-29379115e57c",
   "metadata": {},
   "outputs": [
    {
     "name": "stdout",
     "output_type": "stream",
     "text": [
      "Sorry ! You are dividing by zero \n"
     ]
    }
   ],
   "source": [
    "'''\n",
    "\"try-else\"\n",
    "If there is no exception then else block will be executed.\n",
    "'''\n",
    "x,y = 9,0\n",
    "try:\n",
    "    # Floor Division : Gives only Fractional\n",
    "    # Part as Answer\n",
    "    result = x // y\n",
    "except ZeroDivisionError:\n",
    "    print(\"Sorry ! You are dividing by zero \")\n",
    "else:\n",
    "    print(\"Yeah ! Your answer is :\", result)"
   ]
  },
  {
   "cell_type": "code",
   "execution_count": 9,
   "id": "ffe55c2f-50c4-47d5-ba27-74687790e37d",
   "metadata": {},
   "outputs": [
    {
     "name": "stdout",
     "output_type": "stream",
     "text": [
      "Can't divide by zero\n",
      "This is always executed\n"
     ]
    }
   ],
   "source": [
    "'''\n",
    "\"finally\"\n",
    "\"finally\" block is executed always irrespective of whether exception raised or not raised and whether \n",
    " exception handled or not handled.\n",
    " '''\n",
    "try:\n",
    "\tk = 5//0 # raises divide by zero exception.\n",
    "\tprint(k)\n",
    "except ZeroDivisionError:\n",
    "\tprint(\"Can't divide by zero\")\n",
    "finally:\n",
    "\tprint('This is always executed')"
   ]
  },
  {
   "cell_type": "code",
   "execution_count": 12,
   "id": "e9a956b3-2bb9-4323-9819-e9363900c8de",
   "metadata": {},
   "outputs": [
    {
     "ename": "RuntimeError",
     "evalue": "Wrong age",
     "output_type": "error",
     "traceback": [
      "\u001b[0;31m---------------------------------------------------------------------------\u001b[0m",
      "\u001b[0;31mRuntimeError\u001b[0m                              Traceback (most recent call last)",
      "Cell \u001b[0;32mIn[12], line 7\u001b[0m\n\u001b[1;32m      5\u001b[0m age \u001b[38;5;241m=\u001b[39m \u001b[38;5;241m-\u001b[39m\u001b[38;5;241m6\u001b[39m\n\u001b[1;32m      6\u001b[0m \u001b[38;5;28;01mif\u001b[39;00m age \u001b[38;5;241m<\u001b[39m \u001b[38;5;241m1\u001b[39m:\n\u001b[0;32m----> 7\u001b[0m     \u001b[38;5;28;01mraise\u001b[39;00m \u001b[38;5;167;01mRuntimeError\u001b[39;00m(\u001b[38;5;124m\"\u001b[39m\u001b[38;5;124mWrong age\u001b[39m\u001b[38;5;124m\"\u001b[39m)\n\u001b[1;32m      8\u001b[0m \u001b[38;5;28;01melse\u001b[39;00m:\n\u001b[1;32m      9\u001b[0m     \u001b[38;5;28mprint\u001b[39m(\u001b[38;5;124m\"\u001b[39m\u001b[38;5;124mDone\u001b[39m\u001b[38;5;124m\"\u001b[39m)\n",
      "\u001b[0;31mRuntimeError\u001b[0m: Wrong age"
     ]
    }
   ],
   "source": [
    "'''\n",
    "\"raise\"\n",
    "We can define custom exception by using \"raise\" keyword.\n",
    "'''\n",
    "age = -6\n",
    "if age < 1:\n",
    "    raise RuntimeError(\"Wrong age\")\n",
    "else:\n",
    "    print(\"Done\")\n",
    "    \n",
    "#output  \n",
    "'''\n",
    "---------------------------------------------------------------------------\n",
    "RuntimeError                              Traceback (most recent call last)\n",
    "Cell In[12], line 7\n",
    "      5 age = -6\n",
    "      6 if age < 1:\n",
    "----> 7     raise RuntimeError(\"Wrong age\")\n",
    "      8 else:\n",
    "      9     print(\"Done\")\n",
    "\n",
    "RuntimeError: Wrong age"
   ]
  },
  {
   "cell_type": "code",
   "execution_count": null,
   "id": "86f3a8f6-6494-4ff1-8745-aea44830dea1",
   "metadata": {},
   "outputs": [],
   "source": [
    "#Q.5 Ans:-\n",
    "'''\n",
    "Custom exception are those which are created using \"raise\" keyword.\n",
    "Some time we have to define and raise exceptions explicitly to indicate that something went wrong,such \n",
    "type of exceptions are called Custom Exceptions.\n",
    "\n",
    "In the below example an exception is created if the age variable is smaller than 1 or negative.\n",
    "'''\n",
    "age = -5\n",
    "if age < 1:\n",
    "    raise RuntimeError(\"Wrong age\")\n",
    "else:\n",
    "    print(\"Done\")"
   ]
  },
  {
   "cell_type": "code",
   "execution_count": 17,
   "id": "fafe3740-d27f-4f55-99d2-f458aff897ef",
   "metadata": {},
   "outputs": [
    {
     "name": "stdin",
     "output_type": "stream",
     "text": [
      "Enter your Age -10\n"
     ]
    },
    {
     "ename": "NegativeAgeException",
     "evalue": "Age can't be Negative",
     "output_type": "error",
     "traceback": [
      "\u001b[0;31m---------------------------------------------------------------------------\u001b[0m",
      "\u001b[0;31mNegativeAgeException\u001b[0m                      Traceback (most recent call last)",
      "Cell \u001b[0;32mIn[17], line 9\u001b[0m\n\u001b[1;32m      7\u001b[0m age \u001b[38;5;241m=\u001b[39m\u001b[38;5;28mint\u001b[39m(\u001b[38;5;28minput\u001b[39m(\u001b[38;5;124m\"\u001b[39m\u001b[38;5;124mEnter your Age\u001b[39m\u001b[38;5;124m\"\u001b[39m))\n\u001b[1;32m      8\u001b[0m \u001b[38;5;28;01mif\u001b[39;00m age \u001b[38;5;241m<\u001b[39m \u001b[38;5;241m1\u001b[39m:\n\u001b[0;32m----> 9\u001b[0m     \u001b[38;5;28;01mraise\u001b[39;00m NegativeAgeException(\u001b[38;5;124m\"\u001b[39m\u001b[38;5;124mAge can\u001b[39m\u001b[38;5;124m'\u001b[39m\u001b[38;5;124mt be Negative\u001b[39m\u001b[38;5;124m\"\u001b[39m)\n\u001b[1;32m     10\u001b[0m \u001b[38;5;28;01melse\u001b[39;00m:\n\u001b[1;32m     11\u001b[0m     \u001b[38;5;28mprint\u001b[39m(\u001b[38;5;124m\"\u001b[39m\u001b[38;5;124mValid Age\u001b[39m\u001b[38;5;124m\"\u001b[39m)\n",
      "\u001b[0;31mNegativeAgeException\u001b[0m: Age can't be Negative"
     ]
    }
   ],
   "source": [
    "#Q.6 Ans:-\n",
    "\n",
    "class NegativeAgeException(Exception):\n",
    "    def __init__(self,arg):\n",
    "        self.msg=arg\n",
    "\n",
    "age =int(input(\"Enter your Age\"))\n",
    "if age < 1:\n",
    "    raise NegativeAgeException(\"Age can't be Negative\")\n",
    "else:\n",
    "    print(\"Valid Age\")\n",
    "\n",
    "#Output\n",
    "'''\n",
    "Enter your Age -10\n",
    "---------------------------------------------------------------------------\n",
    "NegativeAgeException                      Traceback (most recent call last)\n",
    "Cell In[17], line 9\n",
    "      7 age =int(input(\"Enter your Age\"))\n",
    "      8 if age < 1:\n",
    "----> 9     raise NegativeAgeException(\"Age can't be Negative\")\n",
    "     10 else:\n",
    "     11     print(\"Valid Age\")\n",
    "\n",
    "NegativeAgeException: Age can't be Negative\n",
    "'''\n"
   ]
  },
  {
   "cell_type": "code",
   "execution_count": null,
   "id": "3e0c408e-bfce-456e-b6e7-e0f9fcd186bf",
   "metadata": {},
   "outputs": [],
   "source": []
  }
 ],
 "metadata": {
  "kernelspec": {
   "display_name": "Python 3 (ipykernel)",
   "language": "python",
   "name": "python3"
  },
  "language_info": {
   "codemirror_mode": {
    "name": "ipython",
    "version": 3
   },
   "file_extension": ".py",
   "mimetype": "text/x-python",
   "name": "python",
   "nbconvert_exporter": "python",
   "pygments_lexer": "ipython3",
   "version": "3.10.8"
  }
 },
 "nbformat": 4,
 "nbformat_minor": 5
}
