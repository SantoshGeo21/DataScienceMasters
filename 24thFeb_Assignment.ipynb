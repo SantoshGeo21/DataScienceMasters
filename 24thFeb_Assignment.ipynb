{
 "cells": [
  {
   "cell_type": "code",
   "execution_count": 2,
   "id": "2bbf76c8-f682-43ff-9752-fa6d9580f00b",
   "metadata": {},
   "outputs": [
    {
     "data": {
      "text/html": [
       "<div>\n",
       "<style scoped>\n",
       "    .dataframe tbody tr th:only-of-type {\n",
       "        vertical-align: middle;\n",
       "    }\n",
       "\n",
       "    .dataframe tbody tr th {\n",
       "        vertical-align: top;\n",
       "    }\n",
       "\n",
       "    .dataframe thead th {\n",
       "        text-align: right;\n",
       "    }\n",
       "</style>\n",
       "<table border=\"1\" class=\"dataframe\">\n",
       "  <thead>\n",
       "    <tr style=\"text-align: right;\">\n",
       "      <th></th>\n",
       "      <th>price</th>\n",
       "      <th>age</th>\n",
       "      <th>value</th>\n",
       "    </tr>\n",
       "  </thead>\n",
       "  <tbody>\n",
       "    <tr>\n",
       "      <th>first</th>\n",
       "      <td>2</td>\n",
       "      <td>4</td>\n",
       "      <td>6</td>\n",
       "    </tr>\n",
       "    <tr>\n",
       "      <th>second</th>\n",
       "      <td>10</td>\n",
       "      <td>20</td>\n",
       "      <td>30</td>\n",
       "    </tr>\n",
       "    <tr>\n",
       "      <th>third</th>\n",
       "      <td>1</td>\n",
       "      <td>2</td>\n",
       "      <td>3</td>\n",
       "    </tr>\n",
       "  </tbody>\n",
       "</table>\n",
       "</div>"
      ],
      "text/plain": [
       "        price  age  value\n",
       "first       2    4      6\n",
       "second     10   20     30\n",
       "third       1    2      3"
      ]
     },
     "execution_count": 2,
     "metadata": {},
     "output_type": "execute_result"
    }
   ],
   "source": [
    "#Q.1 Ans:-\n",
    "\n",
    "import pandas as ps\n",
    "\n",
    "dataframeA = ps.DataFrame([[2,4,6],[10,20,30],[1,2,3]],columns=['price','age','value'],index=['first','second', 'third'])\n",
    "dataframeA"
   ]
  },
  {
   "cell_type": "code",
   "execution_count": 3,
   "id": "4024e8af-8f3b-408d-9a9a-5f262ec63bc6",
   "metadata": {},
   "outputs": [
    {
     "data": {
      "text/html": [
       "<div>\n",
       "<style scoped>\n",
       "    .dataframe tbody tr th:only-of-type {\n",
       "        vertical-align: middle;\n",
       "    }\n",
       "\n",
       "    .dataframe tbody tr th {\n",
       "        vertical-align: top;\n",
       "    }\n",
       "\n",
       "    .dataframe thead th {\n",
       "        text-align: right;\n",
       "    }\n",
       "</style>\n",
       "<table border=\"1\" class=\"dataframe\">\n",
       "  <thead>\n",
       "    <tr style=\"text-align: right;\">\n",
       "      <th></th>\n",
       "      <th>price</th>\n",
       "      <th>age</th>\n",
       "      <th>value</th>\n",
       "    </tr>\n",
       "  </thead>\n",
       "  <tbody>\n",
       "    <tr>\n",
       "      <th>first</th>\n",
       "      <td>2</td>\n",
       "      <td>4</td>\n",
       "      <td>6</td>\n",
       "    </tr>\n",
       "  </tbody>\n",
       "</table>\n",
       "</div>"
      ],
      "text/plain": [
       "       price  age  value\n",
       "first      2    4      6"
      ]
     },
     "execution_count": 3,
     "metadata": {},
     "output_type": "execute_result"
    }
   ],
   "source": [
    "# head\n",
    "dataframeA.head(1)"
   ]
  },
  {
   "cell_type": "code",
   "execution_count": 4,
   "id": "8d7d31e1-9875-4481-b80b-535c80c64e06",
   "metadata": {},
   "outputs": [
    {
     "data": {
      "text/html": [
       "<div>\n",
       "<style scoped>\n",
       "    .dataframe tbody tr th:only-of-type {\n",
       "        vertical-align: middle;\n",
       "    }\n",
       "\n",
       "    .dataframe tbody tr th {\n",
       "        vertical-align: top;\n",
       "    }\n",
       "\n",
       "    .dataframe thead th {\n",
       "        text-align: right;\n",
       "    }\n",
       "</style>\n",
       "<table border=\"1\" class=\"dataframe\">\n",
       "  <thead>\n",
       "    <tr style=\"text-align: right;\">\n",
       "      <th></th>\n",
       "      <th>price</th>\n",
       "      <th>age</th>\n",
       "      <th>value</th>\n",
       "    </tr>\n",
       "  </thead>\n",
       "  <tbody>\n",
       "    <tr>\n",
       "      <th>third</th>\n",
       "      <td>1</td>\n",
       "      <td>2</td>\n",
       "      <td>3</td>\n",
       "    </tr>\n",
       "  </tbody>\n",
       "</table>\n",
       "</div>"
      ],
      "text/plain": [
       "       price  age  value\n",
       "third      1    2      3"
      ]
     },
     "execution_count": 4,
     "metadata": {},
     "output_type": "execute_result"
    }
   ],
   "source": [
    "# tail\n",
    "dataframeA.tail(1)"
   ]
  },
  {
   "cell_type": "code",
   "execution_count": 5,
   "id": "7ae07464-ef06-44aa-8010-bb8a6241b9cf",
   "metadata": {},
   "outputs": [
    {
     "data": {
      "text/plain": [
       "price    2\n",
       "age      4\n",
       "value    6\n",
       "Name: first, dtype: int64"
      ]
     },
     "execution_count": 5,
     "metadata": {},
     "output_type": "execute_result"
    }
   ],
   "source": [
    "# loc\n",
    "dataframeA.loc['first']"
   ]
  },
  {
   "cell_type": "code",
   "execution_count": 6,
   "id": "f901f1ae-d24c-4d5b-8921-18609123be4a",
   "metadata": {},
   "outputs": [
    {
     "data": {
      "text/html": [
       "<div>\n",
       "<style scoped>\n",
       "    .dataframe tbody tr th:only-of-type {\n",
       "        vertical-align: middle;\n",
       "    }\n",
       "\n",
       "    .dataframe tbody tr th {\n",
       "        vertical-align: top;\n",
       "    }\n",
       "\n",
       "    .dataframe thead th {\n",
       "        text-align: right;\n",
       "    }\n",
       "</style>\n",
       "<table border=\"1\" class=\"dataframe\">\n",
       "  <thead>\n",
       "    <tr style=\"text-align: right;\">\n",
       "      <th></th>\n",
       "      <th>price</th>\n",
       "      <th>value</th>\n",
       "    </tr>\n",
       "  </thead>\n",
       "  <tbody>\n",
       "    <tr>\n",
       "      <th>first</th>\n",
       "      <td>2</td>\n",
       "      <td>6</td>\n",
       "    </tr>\n",
       "    <tr>\n",
       "      <th>second</th>\n",
       "      <td>10</td>\n",
       "      <td>30</td>\n",
       "    </tr>\n",
       "  </tbody>\n",
       "</table>\n",
       "</div>"
      ],
      "text/plain": [
       "        price  value\n",
       "first       2      6\n",
       "second     10     30"
      ]
     },
     "execution_count": 6,
     "metadata": {},
     "output_type": "execute_result"
    }
   ],
   "source": [
    "# iloc\n",
    "dataframeA.iloc[0:2, [0,2]]"
   ]
  },
  {
   "cell_type": "code",
   "execution_count": 7,
   "id": "cc4b7263-b586-4b69-9c9c-19ec345da757",
   "metadata": {},
   "outputs": [
    {
     "data": {
      "text/html": [
       "<div>\n",
       "<style scoped>\n",
       "    .dataframe tbody tr th:only-of-type {\n",
       "        vertical-align: middle;\n",
       "    }\n",
       "\n",
       "    .dataframe tbody tr th {\n",
       "        vertical-align: top;\n",
       "    }\n",
       "\n",
       "    .dataframe thead th {\n",
       "        text-align: right;\n",
       "    }\n",
       "</style>\n",
       "<table border=\"1\" class=\"dataframe\">\n",
       "  <thead>\n",
       "    <tr style=\"text-align: right;\">\n",
       "      <th></th>\n",
       "      <th>price</th>\n",
       "      <th>age</th>\n",
       "      <th>value</th>\n",
       "    </tr>\n",
       "  </thead>\n",
       "  <tbody>\n",
       "    <tr>\n",
       "      <th>count</th>\n",
       "      <td>3.000000</td>\n",
       "      <td>3.000000</td>\n",
       "      <td>3.000000</td>\n",
       "    </tr>\n",
       "    <tr>\n",
       "      <th>mean</th>\n",
       "      <td>4.333333</td>\n",
       "      <td>8.666667</td>\n",
       "      <td>13.000000</td>\n",
       "    </tr>\n",
       "    <tr>\n",
       "      <th>std</th>\n",
       "      <td>4.932883</td>\n",
       "      <td>9.865766</td>\n",
       "      <td>14.798649</td>\n",
       "    </tr>\n",
       "    <tr>\n",
       "      <th>min</th>\n",
       "      <td>1.000000</td>\n",
       "      <td>2.000000</td>\n",
       "      <td>3.000000</td>\n",
       "    </tr>\n",
       "    <tr>\n",
       "      <th>25%</th>\n",
       "      <td>1.500000</td>\n",
       "      <td>3.000000</td>\n",
       "      <td>4.500000</td>\n",
       "    </tr>\n",
       "    <tr>\n",
       "      <th>50%</th>\n",
       "      <td>2.000000</td>\n",
       "      <td>4.000000</td>\n",
       "      <td>6.000000</td>\n",
       "    </tr>\n",
       "    <tr>\n",
       "      <th>75%</th>\n",
       "      <td>6.000000</td>\n",
       "      <td>12.000000</td>\n",
       "      <td>18.000000</td>\n",
       "    </tr>\n",
       "    <tr>\n",
       "      <th>max</th>\n",
       "      <td>10.000000</td>\n",
       "      <td>20.000000</td>\n",
       "      <td>30.000000</td>\n",
       "    </tr>\n",
       "  </tbody>\n",
       "</table>\n",
       "</div>"
      ],
      "text/plain": [
       "           price        age      value\n",
       "count   3.000000   3.000000   3.000000\n",
       "mean    4.333333   8.666667  13.000000\n",
       "std     4.932883   9.865766  14.798649\n",
       "min     1.000000   2.000000   3.000000\n",
       "25%     1.500000   3.000000   4.500000\n",
       "50%     2.000000   4.000000   6.000000\n",
       "75%     6.000000  12.000000  18.000000\n",
       "max    10.000000  20.000000  30.000000"
      ]
     },
     "execution_count": 7,
     "metadata": {},
     "output_type": "execute_result"
    }
   ],
   "source": [
    "# decribe\n",
    "dataframeA.describe()"
   ]
  },
  {
   "cell_type": "code",
   "execution_count": 4,
   "id": "58708ab6-4ee3-4718-a2dd-cf2377e1e93b",
   "metadata": {},
   "outputs": [
    {
     "data": {
      "text/html": [
       "<div>\n",
       "<style scoped>\n",
       "    .dataframe tbody tr th:only-of-type {\n",
       "        vertical-align: middle;\n",
       "    }\n",
       "\n",
       "    .dataframe tbody tr th {\n",
       "        vertical-align: top;\n",
       "    }\n",
       "\n",
       "    .dataframe thead th {\n",
       "        text-align: right;\n",
       "    }\n",
       "</style>\n",
       "<table border=\"1\" class=\"dataframe\">\n",
       "  <thead>\n",
       "    <tr style=\"text-align: right;\">\n",
       "      <th></th>\n",
       "      <th>A</th>\n",
       "      <th>B</th>\n",
       "      <th>C</th>\n",
       "    </tr>\n",
       "  </thead>\n",
       "  <tbody>\n",
       "    <tr>\n",
       "      <th>0</th>\n",
       "      <td>2</td>\n",
       "      <td>4</td>\n",
       "      <td>6</td>\n",
       "    </tr>\n",
       "    <tr>\n",
       "      <th>1</th>\n",
       "      <td>10</td>\n",
       "      <td>20</td>\n",
       "      <td>30</td>\n",
       "    </tr>\n",
       "    <tr>\n",
       "      <th>2</th>\n",
       "      <td>1</td>\n",
       "      <td>2</td>\n",
       "      <td>3</td>\n",
       "    </tr>\n",
       "    <tr>\n",
       "      <th>3</th>\n",
       "      <td>11</td>\n",
       "      <td>21</td>\n",
       "      <td>31</td>\n",
       "    </tr>\n",
       "    <tr>\n",
       "      <th>4</th>\n",
       "      <td>12</td>\n",
       "      <td>22</td>\n",
       "      <td>32</td>\n",
       "    </tr>\n",
       "  </tbody>\n",
       "</table>\n",
       "</div>"
      ],
      "text/plain": [
       "    A   B   C\n",
       "0   2   4   6\n",
       "1  10  20  30\n",
       "2   1   2   3\n",
       "3  11  21  31\n",
       "4  12  22  32"
      ]
     },
     "execution_count": 4,
     "metadata": {},
     "output_type": "execute_result"
    }
   ],
   "source": [
    "#Q.2 Ans:-\n",
    "\n",
    "dataframeB = ps.DataFrame([[2,4,6],[10,20,30],[1,2,3],[11,21,31],[12,22,32]],columns=['A','B','C'])\n",
    "dataframeB"
   ]
  },
  {
   "cell_type": "code",
   "execution_count": 6,
   "id": "3316db5b-bd45-48f0-affb-5a1c85bbdade",
   "metadata": {},
   "outputs": [
    {
     "data": {
      "text/html": [
       "<div>\n",
       "<style scoped>\n",
       "    .dataframe tbody tr th:only-of-type {\n",
       "        vertical-align: middle;\n",
       "    }\n",
       "\n",
       "    .dataframe tbody tr th {\n",
       "        vertical-align: top;\n",
       "    }\n",
       "\n",
       "    .dataframe thead th {\n",
       "        text-align: right;\n",
       "    }\n",
       "</style>\n",
       "<table border=\"1\" class=\"dataframe\">\n",
       "  <thead>\n",
       "    <tr style=\"text-align: right;\">\n",
       "      <th></th>\n",
       "      <th>A</th>\n",
       "      <th>B</th>\n",
       "      <th>C</th>\n",
       "    </tr>\n",
       "  </thead>\n",
       "  <tbody>\n",
       "    <tr>\n",
       "      <th>1</th>\n",
       "      <td>10.0</td>\n",
       "      <td>20.0</td>\n",
       "      <td>30.0</td>\n",
       "    </tr>\n",
       "    <tr>\n",
       "      <th>3</th>\n",
       "      <td>11.0</td>\n",
       "      <td>21.0</td>\n",
       "      <td>31.0</td>\n",
       "    </tr>\n",
       "    <tr>\n",
       "      <th>5</th>\n",
       "      <td>NaN</td>\n",
       "      <td>NaN</td>\n",
       "      <td>NaN</td>\n",
       "    </tr>\n",
       "    <tr>\n",
       "      <th>7</th>\n",
       "      <td>NaN</td>\n",
       "      <td>NaN</td>\n",
       "      <td>NaN</td>\n",
       "    </tr>\n",
       "    <tr>\n",
       "      <th>9</th>\n",
       "      <td>NaN</td>\n",
       "      <td>NaN</td>\n",
       "      <td>NaN</td>\n",
       "    </tr>\n",
       "  </tbody>\n",
       "</table>\n",
       "</div>"
      ],
      "text/plain": [
       "      A     B     C\n",
       "1  10.0  20.0  30.0\n",
       "3  11.0  21.0  31.0\n",
       "5   NaN   NaN   NaN\n",
       "7   NaN   NaN   NaN\n",
       "9   NaN   NaN   NaN"
      ]
     },
     "execution_count": 6,
     "metadata": {},
     "output_type": "execute_result"
    }
   ],
   "source": [
    "dataframeB.reindex([1,3,5,7,9])"
   ]
  },
  {
   "cell_type": "code",
   "execution_count": 7,
   "id": "fdaa3572-57ca-4133-827d-5d71c33f30c1",
   "metadata": {},
   "outputs": [
    {
     "data": {
      "text/html": [
       "<div>\n",
       "<style scoped>\n",
       "    .dataframe tbody tr th:only-of-type {\n",
       "        vertical-align: middle;\n",
       "    }\n",
       "\n",
       "    .dataframe tbody tr th {\n",
       "        vertical-align: top;\n",
       "    }\n",
       "\n",
       "    .dataframe thead th {\n",
       "        text-align: right;\n",
       "    }\n",
       "</style>\n",
       "<table border=\"1\" class=\"dataframe\">\n",
       "  <thead>\n",
       "    <tr style=\"text-align: right;\">\n",
       "      <th></th>\n",
       "      <th>A</th>\n",
       "      <th>B</th>\n",
       "      <th>C</th>\n",
       "      <th>D</th>\n",
       "    </tr>\n",
       "  </thead>\n",
       "  <tbody>\n",
       "    <tr>\n",
       "      <th>0</th>\n",
       "      <td>2</td>\n",
       "      <td>4</td>\n",
       "      <td>6</td>\n",
       "      <td>1</td>\n",
       "    </tr>\n",
       "    <tr>\n",
       "      <th>1</th>\n",
       "      <td>10</td>\n",
       "      <td>20</td>\n",
       "      <td>30</td>\n",
       "      <td>1</td>\n",
       "    </tr>\n",
       "    <tr>\n",
       "      <th>2</th>\n",
       "      <td>1</td>\n",
       "      <td>2</td>\n",
       "      <td>3</td>\n",
       "      <td>1</td>\n",
       "    </tr>\n",
       "  </tbody>\n",
       "</table>\n",
       "</div>"
      ],
      "text/plain": [
       "    A   B   C  D\n",
       "0   2   4   6  1\n",
       "1  10  20  30  1\n",
       "2   1   2   3  1"
      ]
     },
     "execution_count": 7,
     "metadata": {},
     "output_type": "execute_result"
    }
   ],
   "source": [
    "#Q.3 Ans:-\n",
    "\n",
    "dataframeC = ps.DataFrame([[2,4,6,1],[10,20,30,1],[1,2,3,1]],columns=['A','B','C','D'])\n",
    "dataframeC"
   ]
  },
  {
   "cell_type": "code",
   "execution_count": 8,
   "id": "3c736982-61d5-497e-b5e6-f2f805d6802a",
   "metadata": {},
   "outputs": [
    {
     "data": {
      "text/plain": [
       "0    12\n",
       "1    60\n",
       "2     6\n",
       "dtype: int64"
      ]
     },
     "execution_count": 8,
     "metadata": {},
     "output_type": "execute_result"
    }
   ],
   "source": [
    "dataframeC['A'] + dataframeC['B'] + dataframeC['C']"
   ]
  },
  {
   "cell_type": "code",
   "execution_count": 10,
   "id": "b9ef20a6-9f5f-4077-a39e-0ec705637063",
   "metadata": {},
   "outputs": [
    {
     "data": {
      "text/html": [
       "<div>\n",
       "<style scoped>\n",
       "    .dataframe tbody tr th:only-of-type {\n",
       "        vertical-align: middle;\n",
       "    }\n",
       "\n",
       "    .dataframe tbody tr th {\n",
       "        vertical-align: top;\n",
       "    }\n",
       "\n",
       "    .dataframe thead th {\n",
       "        text-align: right;\n",
       "    }\n",
       "</style>\n",
       "<table border=\"1\" class=\"dataframe\">\n",
       "  <thead>\n",
       "    <tr style=\"text-align: right;\">\n",
       "      <th></th>\n",
       "      <th>Text</th>\n",
       "    </tr>\n",
       "  </thead>\n",
       "  <tbody>\n",
       "    <tr>\n",
       "      <th>0</th>\n",
       "      <td>This is</td>\n",
       "    </tr>\n",
       "    <tr>\n",
       "      <th>1</th>\n",
       "      <td>pwskill</td>\n",
       "    </tr>\n",
       "    <tr>\n",
       "      <th>2</th>\n",
       "      <td>DS course</td>\n",
       "    </tr>\n",
       "  </tbody>\n",
       "</table>\n",
       "</div>"
      ],
      "text/plain": [
       "        Text\n",
       "0   This is \n",
       "1    pwskill\n",
       "2  DS course"
      ]
     },
     "execution_count": 10,
     "metadata": {},
     "output_type": "execute_result"
    }
   ],
   "source": [
    "#Q.4 Ans:-\n",
    "\n",
    "dataframeD = ps.DataFrame([['This is '],['pwskill'],['DS course']],columns=['Text'])\n",
    "dataframeD"
   ]
  },
  {
   "cell_type": "code",
   "execution_count": 11,
   "id": "6051327b-1934-461d-8db7-9dd35d52be93",
   "metadata": {},
   "outputs": [
    {
     "data": {
      "text/html": [
       "<div>\n",
       "<style scoped>\n",
       "    .dataframe tbody tr th:only-of-type {\n",
       "        vertical-align: middle;\n",
       "    }\n",
       "\n",
       "    .dataframe tbody tr th {\n",
       "        vertical-align: top;\n",
       "    }\n",
       "\n",
       "    .dataframe thead th {\n",
       "        text-align: right;\n",
       "    }\n",
       "</style>\n",
       "<table border=\"1\" class=\"dataframe\">\n",
       "  <thead>\n",
       "    <tr style=\"text-align: right;\">\n",
       "      <th></th>\n",
       "      <th>Text</th>\n",
       "      <th>Word_Count</th>\n",
       "    </tr>\n",
       "  </thead>\n",
       "  <tbody>\n",
       "    <tr>\n",
       "      <th>0</th>\n",
       "      <td>This is</td>\n",
       "      <td>2</td>\n",
       "    </tr>\n",
       "    <tr>\n",
       "      <th>1</th>\n",
       "      <td>pwskill</td>\n",
       "      <td>1</td>\n",
       "    </tr>\n",
       "    <tr>\n",
       "      <th>2</th>\n",
       "      <td>DS course</td>\n",
       "      <td>2</td>\n",
       "    </tr>\n",
       "  </tbody>\n",
       "</table>\n",
       "</div>"
      ],
      "text/plain": [
       "        Text  Word_Count\n",
       "0   This is            2\n",
       "1    pwskill           1\n",
       "2  DS course           2"
      ]
     },
     "execution_count": 11,
     "metadata": {},
     "output_type": "execute_result"
    }
   ],
   "source": [
    "dataframeD['Word_Count'] = dataframeD['Text'].apply(lambda n: len(n.split()))\n",
    "dataframeD"
   ]
  },
  {
   "cell_type": "code",
   "execution_count": 12,
   "id": "57dc8b92-08f0-4bd6-904d-dd9c502c6bc1",
   "metadata": {},
   "outputs": [
    {
     "data": {
      "text/plain": [
       "6"
      ]
     },
     "execution_count": 12,
     "metadata": {},
     "output_type": "execute_result"
    }
   ],
   "source": [
    "#Q.5 Ans:-\n",
    "\n",
    "# Returns size of dataframe/series which is equivalent to total number of elements. That is rows x columns.\n",
    "dataframeD.size"
   ]
  },
  {
   "cell_type": "code",
   "execution_count": 13,
   "id": "abfd9fc8-29e5-495e-8823-1a9b1d25dab6",
   "metadata": {},
   "outputs": [
    {
     "data": {
      "text/plain": [
       "(3, 2)"
      ]
     },
     "execution_count": 13,
     "metadata": {},
     "output_type": "execute_result"
    }
   ],
   "source": [
    "# Returns tuple of shape (Rows, columns) of dataframe/series\n",
    "dataframeD.shape"
   ]
  },
  {
   "cell_type": "code",
   "execution_count": 16,
   "id": "6bc0f92b-9ef1-4a3f-ac42-2060fe10126d",
   "metadata": {},
   "outputs": [
    {
     "data": {
      "text/html": [
       "<div>\n",
       "<style scoped>\n",
       "    .dataframe tbody tr th:only-of-type {\n",
       "        vertical-align: middle;\n",
       "    }\n",
       "\n",
       "    .dataframe tbody tr th {\n",
       "        vertical-align: top;\n",
       "    }\n",
       "\n",
       "    .dataframe thead th {\n",
       "        text-align: right;\n",
       "    }\n",
       "</style>\n",
       "<table border=\"1\" class=\"dataframe\">\n",
       "  <thead>\n",
       "    <tr style=\"text-align: right;\">\n",
       "      <th></th>\n",
       "      <th>Unnamed: 0</th>\n",
       "      <th>day</th>\n",
       "      <th>temperature</th>\n",
       "      <th>windspeed</th>\n",
       "      <th>event</th>\n",
       "    </tr>\n",
       "  </thead>\n",
       "  <tbody>\n",
       "    <tr>\n",
       "      <th>0</th>\n",
       "      <td>0</td>\n",
       "      <td>1/1/2017</td>\n",
       "      <td>32</td>\n",
       "      <td>6</td>\n",
       "      <td>Rain</td>\n",
       "    </tr>\n",
       "    <tr>\n",
       "      <th>1</th>\n",
       "      <td>1</td>\n",
       "      <td>1/2/2017</td>\n",
       "      <td>35</td>\n",
       "      <td>7</td>\n",
       "      <td>Sunny</td>\n",
       "    </tr>\n",
       "    <tr>\n",
       "      <th>2</th>\n",
       "      <td>2</td>\n",
       "      <td>1/3/2017</td>\n",
       "      <td>28</td>\n",
       "      <td>2</td>\n",
       "      <td>Snow</td>\n",
       "    </tr>\n",
       "    <tr>\n",
       "      <th>3</th>\n",
       "      <td>3</td>\n",
       "      <td>1/4/2017</td>\n",
       "      <td>24</td>\n",
       "      <td>7</td>\n",
       "      <td>Snow</td>\n",
       "    </tr>\n",
       "    <tr>\n",
       "      <th>4</th>\n",
       "      <td>4</td>\n",
       "      <td>1/5/2017</td>\n",
       "      <td>32</td>\n",
       "      <td>4</td>\n",
       "      <td>Rain</td>\n",
       "    </tr>\n",
       "    <tr>\n",
       "      <th>5</th>\n",
       "      <td>5</td>\n",
       "      <td>1/6/2017</td>\n",
       "      <td>31</td>\n",
       "      <td>2</td>\n",
       "      <td>Sunny</td>\n",
       "    </tr>\n",
       "  </tbody>\n",
       "</table>\n",
       "</div>"
      ],
      "text/plain": [
       "   Unnamed: 0       day  temperature  windspeed  event\n",
       "0           0  1/1/2017           32          6   Rain\n",
       "1           1  1/2/2017           35          7  Sunny\n",
       "2           2  1/3/2017           28          2   Snow\n",
       "3           3  1/4/2017           24          7   Snow\n",
       "4           4  1/5/2017           32          4   Rain\n",
       "5           5  1/6/2017           31          2  Sunny"
      ]
     },
     "execution_count": 16,
     "metadata": {},
     "output_type": "execute_result"
    }
   ],
   "source": [
    "#Q.6 Ans:-\n",
    "'''\n",
    "We use 'ps.read_excel' to read the excel file in pandas.\n",
    "'''\n",
    "dataframe_excel=ps.read_excel(\"https://raw.githubusercontent.com/santoshGeo21/datasets/main/pw-s/df_xl.xlsx\")\n",
    "dataframe_excel"
   ]
  },
  {
   "cell_type": "code",
   "execution_count": 19,
   "id": "9ed66800-099d-4a2d-8d46-fa2dce94fffa",
   "metadata": {},
   "outputs": [
    {
     "data": {
      "text/html": [
       "<div>\n",
       "<style scoped>\n",
       "    .dataframe tbody tr th:only-of-type {\n",
       "        vertical-align: middle;\n",
       "    }\n",
       "\n",
       "    .dataframe tbody tr th {\n",
       "        vertical-align: top;\n",
       "    }\n",
       "\n",
       "    .dataframe thead th {\n",
       "        text-align: right;\n",
       "    }\n",
       "</style>\n",
       "<table border=\"1\" class=\"dataframe\">\n",
       "  <thead>\n",
       "    <tr style=\"text-align: right;\">\n",
       "      <th></th>\n",
       "      <th>Email</th>\n",
       "    </tr>\n",
       "  </thead>\n",
       "  <tbody>\n",
       "    <tr>\n",
       "      <th>0</th>\n",
       "      <td>kc@gmail.com</td>\n",
       "    </tr>\n",
       "    <tr>\n",
       "      <th>1</th>\n",
       "      <td>Santu@gmail.com</td>\n",
       "    </tr>\n",
       "    <tr>\n",
       "      <th>2</th>\n",
       "      <td>avi@xyz.in</td>\n",
       "    </tr>\n",
       "  </tbody>\n",
       "</table>\n",
       "</div>"
      ],
      "text/plain": [
       "             Email\n",
       "0     kc@gmail.com\n",
       "1  Santu@gmail.com\n",
       "2       avi@xyz.in"
      ]
     },
     "execution_count": 19,
     "metadata": {},
     "output_type": "execute_result"
    }
   ],
   "source": [
    "#Q.7 Ans:-\n",
    "\n",
    "dataframeD = ps.DataFrame([['kc@gmail.com'],['Santu@gmail.com'],['avi@xyz.in']],columns=['Email'])\n",
    "dataframeD"
   ]
  },
  {
   "cell_type": "code",
   "execution_count": 20,
   "id": "5696cde8-590a-4af7-bc2a-141d0350f9ce",
   "metadata": {},
   "outputs": [
    {
     "data": {
      "text/html": [
       "<div>\n",
       "<style scoped>\n",
       "    .dataframe tbody tr th:only-of-type {\n",
       "        vertical-align: middle;\n",
       "    }\n",
       "\n",
       "    .dataframe tbody tr th {\n",
       "        vertical-align: top;\n",
       "    }\n",
       "\n",
       "    .dataframe thead th {\n",
       "        text-align: right;\n",
       "    }\n",
       "</style>\n",
       "<table border=\"1\" class=\"dataframe\">\n",
       "  <thead>\n",
       "    <tr style=\"text-align: right;\">\n",
       "      <th></th>\n",
       "      <th>Email</th>\n",
       "      <th>Username</th>\n",
       "    </tr>\n",
       "  </thead>\n",
       "  <tbody>\n",
       "    <tr>\n",
       "      <th>0</th>\n",
       "      <td>kc@gmail.com</td>\n",
       "      <td>kc</td>\n",
       "    </tr>\n",
       "    <tr>\n",
       "      <th>1</th>\n",
       "      <td>Santu@gmail.com</td>\n",
       "      <td>Santu</td>\n",
       "    </tr>\n",
       "    <tr>\n",
       "      <th>2</th>\n",
       "      <td>avi@xyz.in</td>\n",
       "      <td>avi</td>\n",
       "    </tr>\n",
       "  </tbody>\n",
       "</table>\n",
       "</div>"
      ],
      "text/plain": [
       "             Email Username\n",
       "0     kc@gmail.com       kc\n",
       "1  Santu@gmail.com    Santu\n",
       "2       avi@xyz.in      avi"
      ]
     },
     "execution_count": 20,
     "metadata": {},
     "output_type": "execute_result"
    }
   ],
   "source": [
    "dataframeD['Username'] = dataframeD['Email'].apply(lambda n: n.split('@')[0])\n",
    "dataframeD"
   ]
  },
  {
   "cell_type": "code",
   "execution_count": 21,
   "id": "8d05d47e-b1ed-4303-b24f-3b81fbc34830",
   "metadata": {},
   "outputs": [
    {
     "data": {
      "text/html": [
       "<div>\n",
       "<style scoped>\n",
       "    .dataframe tbody tr th:only-of-type {\n",
       "        vertical-align: middle;\n",
       "    }\n",
       "\n",
       "    .dataframe tbody tr th {\n",
       "        vertical-align: top;\n",
       "    }\n",
       "\n",
       "    .dataframe thead th {\n",
       "        text-align: right;\n",
       "    }\n",
       "</style>\n",
       "<table border=\"1\" class=\"dataframe\">\n",
       "  <thead>\n",
       "    <tr style=\"text-align: right;\">\n",
       "      <th></th>\n",
       "      <th>A</th>\n",
       "      <th>B</th>\n",
       "      <th>C</th>\n",
       "    </tr>\n",
       "  </thead>\n",
       "  <tbody>\n",
       "    <tr>\n",
       "      <th>0</th>\n",
       "      <td>3</td>\n",
       "      <td>5</td>\n",
       "      <td>1</td>\n",
       "    </tr>\n",
       "    <tr>\n",
       "      <th>1</th>\n",
       "      <td>8</td>\n",
       "      <td>2</td>\n",
       "      <td>7</td>\n",
       "    </tr>\n",
       "    <tr>\n",
       "      <th>2</th>\n",
       "      <td>6</td>\n",
       "      <td>9</td>\n",
       "      <td>5</td>\n",
       "    </tr>\n",
       "    <tr>\n",
       "      <th>3</th>\n",
       "      <td>2</td>\n",
       "      <td>3</td>\n",
       "      <td>5</td>\n",
       "    </tr>\n",
       "    <tr>\n",
       "      <th>4</th>\n",
       "      <td>9</td>\n",
       "      <td>1</td>\n",
       "      <td>2</td>\n",
       "    </tr>\n",
       "  </tbody>\n",
       "</table>\n",
       "</div>"
      ],
      "text/plain": [
       "   A  B  C\n",
       "0  3  5  1\n",
       "1  8  2  7\n",
       "2  6  9  5\n",
       "3  2  3  5\n",
       "4  9  1  2"
      ]
     },
     "execution_count": 21,
     "metadata": {},
     "output_type": "execute_result"
    }
   ],
   "source": [
    "#Q.8 Ans:-\n",
    "\n",
    "dataframeE = ps.DataFrame([[3,5,1],[8,2,7],[6,9,5],[2,3,5],[9,1,2]],columns=['A','B','C'])\n",
    "dataframeE"
   ]
  },
  {
   "cell_type": "code",
   "execution_count": 22,
   "id": "4c783d58-5fe4-4abd-9739-42440a7a10ec",
   "metadata": {},
   "outputs": [
    {
     "data": {
      "text/html": [
       "<div>\n",
       "<style scoped>\n",
       "    .dataframe tbody tr th:only-of-type {\n",
       "        vertical-align: middle;\n",
       "    }\n",
       "\n",
       "    .dataframe tbody tr th {\n",
       "        vertical-align: top;\n",
       "    }\n",
       "\n",
       "    .dataframe thead th {\n",
       "        text-align: right;\n",
       "    }\n",
       "</style>\n",
       "<table border=\"1\" class=\"dataframe\">\n",
       "  <thead>\n",
       "    <tr style=\"text-align: right;\">\n",
       "      <th></th>\n",
       "      <th>A</th>\n",
       "      <th>B</th>\n",
       "      <th>C</th>\n",
       "    </tr>\n",
       "  </thead>\n",
       "  <tbody>\n",
       "    <tr>\n",
       "      <th>1</th>\n",
       "      <td>8</td>\n",
       "      <td>2</td>\n",
       "      <td>7</td>\n",
       "    </tr>\n",
       "    <tr>\n",
       "      <th>4</th>\n",
       "      <td>9</td>\n",
       "      <td>1</td>\n",
       "      <td>2</td>\n",
       "    </tr>\n",
       "  </tbody>\n",
       "</table>\n",
       "</div>"
      ],
      "text/plain": [
       "   A  B  C\n",
       "1  8  2  7\n",
       "4  9  1  2"
      ]
     },
     "execution_count": 22,
     "metadata": {},
     "output_type": "execute_result"
    }
   ],
   "source": [
    "dataframeE[ (dataframeE['A'] > 6) &  (dataframeE['B'] < 10)]"
   ]
  },
  {
   "cell_type": "code",
   "execution_count": 23,
   "id": "74992057-5ab4-4a24-87bf-7dc8f024f493",
   "metadata": {},
   "outputs": [
    {
     "data": {
      "text/html": [
       "<div>\n",
       "<style scoped>\n",
       "    .dataframe tbody tr th:only-of-type {\n",
       "        vertical-align: middle;\n",
       "    }\n",
       "\n",
       "    .dataframe tbody tr th {\n",
       "        vertical-align: top;\n",
       "    }\n",
       "\n",
       "    .dataframe thead th {\n",
       "        text-align: right;\n",
       "    }\n",
       "</style>\n",
       "<table border=\"1\" class=\"dataframe\">\n",
       "  <thead>\n",
       "    <tr style=\"text-align: right;\">\n",
       "      <th></th>\n",
       "      <th>Values</th>\n",
       "      <th>B</th>\n",
       "      <th>C</th>\n",
       "    </tr>\n",
       "  </thead>\n",
       "  <tbody>\n",
       "    <tr>\n",
       "      <th>0</th>\n",
       "      <td>3</td>\n",
       "      <td>5</td>\n",
       "      <td>1</td>\n",
       "    </tr>\n",
       "    <tr>\n",
       "      <th>1</th>\n",
       "      <td>8</td>\n",
       "      <td>2</td>\n",
       "      <td>7</td>\n",
       "    </tr>\n",
       "    <tr>\n",
       "      <th>2</th>\n",
       "      <td>6</td>\n",
       "      <td>9</td>\n",
       "      <td>5</td>\n",
       "    </tr>\n",
       "    <tr>\n",
       "      <th>3</th>\n",
       "      <td>2</td>\n",
       "      <td>3</td>\n",
       "      <td>5</td>\n",
       "    </tr>\n",
       "    <tr>\n",
       "      <th>4</th>\n",
       "      <td>9</td>\n",
       "      <td>1</td>\n",
       "      <td>2</td>\n",
       "    </tr>\n",
       "  </tbody>\n",
       "</table>\n",
       "</div>"
      ],
      "text/plain": [
       "   Values  B  C\n",
       "0       3  5  1\n",
       "1       8  2  7\n",
       "2       6  9  5\n",
       "3       2  3  5\n",
       "4       9  1  2"
      ]
     },
     "execution_count": 23,
     "metadata": {},
     "output_type": "execute_result"
    }
   ],
   "source": [
    "#Q.9 Ans:-\n",
    "\n",
    "dataframeF = ps.DataFrame([[3,5,1],[8,2,7],[6,9,5],[2,3,5],[9,1,2]],columns=['Values','B','C'])\n",
    "dataframeF"
   ]
  },
  {
   "cell_type": "code",
   "execution_count": 24,
   "id": "b67e7612-aa5f-4e71-b7d8-fca5eced74d1",
   "metadata": {},
   "outputs": [
    {
     "data": {
      "text/plain": [
       "5.6"
      ]
     },
     "execution_count": 24,
     "metadata": {},
     "output_type": "execute_result"
    }
   ],
   "source": [
    "# Mean\n",
    "dataframeF['Values'].mean()"
   ]
  },
  {
   "cell_type": "code",
   "execution_count": 25,
   "id": "0332aa3a-e29b-4dcf-b5da-c673feb096d5",
   "metadata": {},
   "outputs": [
    {
     "data": {
      "text/plain": [
       "6.0"
      ]
     },
     "execution_count": 25,
     "metadata": {},
     "output_type": "execute_result"
    }
   ],
   "source": [
    "# Median\n",
    "dataframeF['Values'].median()"
   ]
  },
  {
   "cell_type": "code",
   "execution_count": 26,
   "id": "fde85621-90ed-425d-8f9e-e3f83190b369",
   "metadata": {},
   "outputs": [
    {
     "data": {
      "text/plain": [
       "3.0495901363953815"
      ]
     },
     "execution_count": 26,
     "metadata": {},
     "output_type": "execute_result"
    }
   ],
   "source": [
    "# Standard deviation\n",
    "dataframeF['Values'].std()"
   ]
  },
  {
   "cell_type": "code",
   "execution_count": 27,
   "id": "9664c2b4-297e-4e8b-b819-8713eaa57103",
   "metadata": {},
   "outputs": [],
   "source": [
    "#Q.10 Ans:-\n",
    "# Creating Dataset\n",
    "from datetime import datetime, timedelta\n",
    "import random\n",
    "\n",
    "end_date = datetime.now().date()\n",
    "start_date = end_date - timedelta(days = 60)\n",
    "\n",
    "date_list = ps.date_range(start=start_date, end=end_date).to_list()\n",
    "sales_list = [random.randint(10, 100) for i in range(len(date_list))]\n",
    "\n",
    "dataframeG = ps.DataFrame({'Date': date_list, 'Sale': sales_list})\n"
   ]
  },
  {
   "cell_type": "code",
   "execution_count": 28,
   "id": "c78ecf51-a315-480a-a196-9bef634433d4",
   "metadata": {},
   "outputs": [
    {
     "data": {
      "text/plain": [
       "<AxesSubplot: xlabel='Date'>"
      ]
     },
     "execution_count": 28,
     "metadata": {},
     "output_type": "execute_result"
    },
    {
     "data": {
      "image/png": "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\n",
      "text/plain": [
       "<Figure size 640x480 with 1 Axes>"
      ]
     },
     "metadata": {},
     "output_type": "display_data"
    }
   ],
   "source": [
    "dataframeG.plot.line(x='Date', y='Sale')"
   ]
  },
  {
   "cell_type": "code",
   "execution_count": 29,
   "id": "782b4c1e-797e-44a7-aa92-9922eeffea98",
   "metadata": {},
   "outputs": [
    {
     "data": {
      "text/html": [
       "<div>\n",
       "<style scoped>\n",
       "    .dataframe tbody tr th:only-of-type {\n",
       "        vertical-align: middle;\n",
       "    }\n",
       "\n",
       "    .dataframe tbody tr th {\n",
       "        vertical-align: top;\n",
       "    }\n",
       "\n",
       "    .dataframe thead th {\n",
       "        text-align: right;\n",
       "    }\n",
       "</style>\n",
       "<table border=\"1\" class=\"dataframe\">\n",
       "  <thead>\n",
       "    <tr style=\"text-align: right;\">\n",
       "      <th></th>\n",
       "      <th>Date</th>\n",
       "      <th>Sale</th>\n",
       "      <th>MA7</th>\n",
       "    </tr>\n",
       "  </thead>\n",
       "  <tbody>\n",
       "    <tr>\n",
       "      <th>0</th>\n",
       "      <td>2023-01-18</td>\n",
       "      <td>44</td>\n",
       "      <td>NaN</td>\n",
       "    </tr>\n",
       "    <tr>\n",
       "      <th>1</th>\n",
       "      <td>2023-01-19</td>\n",
       "      <td>25</td>\n",
       "      <td>NaN</td>\n",
       "    </tr>\n",
       "    <tr>\n",
       "      <th>2</th>\n",
       "      <td>2023-01-20</td>\n",
       "      <td>43</td>\n",
       "      <td>NaN</td>\n",
       "    </tr>\n",
       "    <tr>\n",
       "      <th>3</th>\n",
       "      <td>2023-01-21</td>\n",
       "      <td>83</td>\n",
       "      <td>NaN</td>\n",
       "    </tr>\n",
       "    <tr>\n",
       "      <th>4</th>\n",
       "      <td>2023-01-22</td>\n",
       "      <td>39</td>\n",
       "      <td>NaN</td>\n",
       "    </tr>\n",
       "    <tr>\n",
       "      <th>...</th>\n",
       "      <td>...</td>\n",
       "      <td>...</td>\n",
       "      <td>...</td>\n",
       "    </tr>\n",
       "    <tr>\n",
       "      <th>56</th>\n",
       "      <td>2023-03-15</td>\n",
       "      <td>51</td>\n",
       "      <td>38.571429</td>\n",
       "    </tr>\n",
       "    <tr>\n",
       "      <th>57</th>\n",
       "      <td>2023-03-16</td>\n",
       "      <td>98</td>\n",
       "      <td>49.000000</td>\n",
       "    </tr>\n",
       "    <tr>\n",
       "      <th>58</th>\n",
       "      <td>2023-03-17</td>\n",
       "      <td>71</td>\n",
       "      <td>56.000000</td>\n",
       "    </tr>\n",
       "    <tr>\n",
       "      <th>59</th>\n",
       "      <td>2023-03-18</td>\n",
       "      <td>13</td>\n",
       "      <td>54.000000</td>\n",
       "    </tr>\n",
       "    <tr>\n",
       "      <th>60</th>\n",
       "      <td>2023-03-19</td>\n",
       "      <td>66</td>\n",
       "      <td>59.857143</td>\n",
       "    </tr>\n",
       "  </tbody>\n",
       "</table>\n",
       "<p>61 rows × 3 columns</p>\n",
       "</div>"
      ],
      "text/plain": [
       "         Date  Sale        MA7\n",
       "0  2023-01-18    44        NaN\n",
       "1  2023-01-19    25        NaN\n",
       "2  2023-01-20    43        NaN\n",
       "3  2023-01-21    83        NaN\n",
       "4  2023-01-22    39        NaN\n",
       "..        ...   ...        ...\n",
       "56 2023-03-15    51  38.571429\n",
       "57 2023-03-16    98  49.000000\n",
       "58 2023-03-17    71  56.000000\n",
       "59 2023-03-18    13  54.000000\n",
       "60 2023-03-19    66  59.857143\n",
       "\n",
       "[61 rows x 3 columns]"
      ]
     },
     "execution_count": 29,
     "metadata": {},
     "output_type": "execute_result"
    }
   ],
   "source": [
    "dataframeG['MA7'] = dataframeG['Sale'].rolling(window=7).mean()\n",
    "dataframeG"
   ]
  },
  {
   "cell_type": "code",
   "execution_count": 30,
   "id": "4473ba92-f329-4b9e-8637-5ab298d536ee",
   "metadata": {},
   "outputs": [
    {
     "data": {
      "text/plain": [
       "<AxesSubplot: xlabel='Date'>"
      ]
     },
     "execution_count": 30,
     "metadata": {},
     "output_type": "execute_result"
    },
    {
     "data": {
      "image/png": "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\n",
      "text/plain": [
       "<Figure size 640x480 with 1 Axes>"
      ]
     },
     "metadata": {},
     "output_type": "display_data"
    }
   ],
   "source": [
    "dataframeG.plot.line(x='Date', y='MA7')"
   ]
  },
  {
   "cell_type": "code",
   "execution_count": 32,
   "id": "83c65e53-644d-4f30-a14b-c874796175e0",
   "metadata": {},
   "outputs": [
    {
     "data": {
      "text/plain": [
       "[Timestamp('2023-01-01 00:00:00', freq='D'),\n",
       " Timestamp('2023-01-02 00:00:00', freq='D'),\n",
       " Timestamp('2023-01-03 00:00:00', freq='D'),\n",
       " Timestamp('2023-01-04 00:00:00', freq='D'),\n",
       " Timestamp('2023-01-05 00:00:00', freq='D'),\n",
       " Timestamp('2023-01-06 00:00:00', freq='D'),\n",
       " Timestamp('2023-01-07 00:00:00', freq='D')]"
      ]
     },
     "execution_count": 32,
     "metadata": {},
     "output_type": "execute_result"
    }
   ],
   "source": [
    "#Q.11 Ans:-\n",
    "\n",
    "date = ps.date_range(start = '2023-01-01' ,end = '2023-01-07').to_list()\n",
    "date"
   ]
  },
  {
   "cell_type": "code",
   "execution_count": 34,
   "id": "199965d8-7d81-4e96-9032-711c7392e9f5",
   "metadata": {},
   "outputs": [
    {
     "data": {
      "text/html": [
       "<div>\n",
       "<style scoped>\n",
       "    .dataframe tbody tr th:only-of-type {\n",
       "        vertical-align: middle;\n",
       "    }\n",
       "\n",
       "    .dataframe tbody tr th {\n",
       "        vertical-align: top;\n",
       "    }\n",
       "\n",
       "    .dataframe thead th {\n",
       "        text-align: right;\n",
       "    }\n",
       "</style>\n",
       "<table border=\"1\" class=\"dataframe\">\n",
       "  <thead>\n",
       "    <tr style=\"text-align: right;\">\n",
       "      <th></th>\n",
       "      <th>Date</th>\n",
       "    </tr>\n",
       "  </thead>\n",
       "  <tbody>\n",
       "    <tr>\n",
       "      <th>0</th>\n",
       "      <td>2023-01-01</td>\n",
       "    </tr>\n",
       "    <tr>\n",
       "      <th>1</th>\n",
       "      <td>2023-01-02</td>\n",
       "    </tr>\n",
       "    <tr>\n",
       "      <th>2</th>\n",
       "      <td>2023-01-03</td>\n",
       "    </tr>\n",
       "    <tr>\n",
       "      <th>3</th>\n",
       "      <td>2023-01-04</td>\n",
       "    </tr>\n",
       "    <tr>\n",
       "      <th>4</th>\n",
       "      <td>2023-01-05</td>\n",
       "    </tr>\n",
       "    <tr>\n",
       "      <th>5</th>\n",
       "      <td>2023-01-06</td>\n",
       "    </tr>\n",
       "    <tr>\n",
       "      <th>6</th>\n",
       "      <td>2023-01-07</td>\n",
       "    </tr>\n",
       "  </tbody>\n",
       "</table>\n",
       "</div>"
      ],
      "text/plain": [
       "        Date\n",
       "0 2023-01-01\n",
       "1 2023-01-02\n",
       "2 2023-01-03\n",
       "3 2023-01-04\n",
       "4 2023-01-05\n",
       "5 2023-01-06\n",
       "6 2023-01-07"
      ]
     },
     "execution_count": 34,
     "metadata": {},
     "output_type": "execute_result"
    }
   ],
   "source": [
    "data_frame = ps.DataFrame({'Date': date})\n",
    "data_frame"
   ]
  },
  {
   "cell_type": "code",
   "execution_count": 37,
   "id": "07dfe0e8-134e-4fdb-b675-f63043cdc68e",
   "metadata": {},
   "outputs": [
    {
     "data": {
      "text/html": [
       "<div>\n",
       "<style scoped>\n",
       "    .dataframe tbody tr th:only-of-type {\n",
       "        vertical-align: middle;\n",
       "    }\n",
       "\n",
       "    .dataframe tbody tr th {\n",
       "        vertical-align: top;\n",
       "    }\n",
       "\n",
       "    .dataframe thead th {\n",
       "        text-align: right;\n",
       "    }\n",
       "</style>\n",
       "<table border=\"1\" class=\"dataframe\">\n",
       "  <thead>\n",
       "    <tr style=\"text-align: right;\">\n",
       "      <th></th>\n",
       "      <th>Date</th>\n",
       "      <th>Weekday</th>\n",
       "    </tr>\n",
       "  </thead>\n",
       "  <tbody>\n",
       "    <tr>\n",
       "      <th>0</th>\n",
       "      <td>2023-01-01</td>\n",
       "      <td>Sunday</td>\n",
       "    </tr>\n",
       "    <tr>\n",
       "      <th>1</th>\n",
       "      <td>2023-01-02</td>\n",
       "      <td>Monday</td>\n",
       "    </tr>\n",
       "    <tr>\n",
       "      <th>2</th>\n",
       "      <td>2023-01-03</td>\n",
       "      <td>Tuesday</td>\n",
       "    </tr>\n",
       "    <tr>\n",
       "      <th>3</th>\n",
       "      <td>2023-01-04</td>\n",
       "      <td>Wednesday</td>\n",
       "    </tr>\n",
       "    <tr>\n",
       "      <th>4</th>\n",
       "      <td>2023-01-05</td>\n",
       "      <td>Thursday</td>\n",
       "    </tr>\n",
       "    <tr>\n",
       "      <th>5</th>\n",
       "      <td>2023-01-06</td>\n",
       "      <td>Friday</td>\n",
       "    </tr>\n",
       "    <tr>\n",
       "      <th>6</th>\n",
       "      <td>2023-01-07</td>\n",
       "      <td>Saturday</td>\n",
       "    </tr>\n",
       "  </tbody>\n",
       "</table>\n",
       "</div>"
      ],
      "text/plain": [
       "        Date    Weekday\n",
       "0 2023-01-01     Sunday\n",
       "1 2023-01-02     Monday\n",
       "2 2023-01-03    Tuesday\n",
       "3 2023-01-04  Wednesday\n",
       "4 2023-01-05   Thursday\n",
       "5 2023-01-06     Friday\n",
       "6 2023-01-07   Saturday"
      ]
     },
     "execution_count": 37,
     "metadata": {},
     "output_type": "execute_result"
    }
   ],
   "source": [
    "data_frame['Weekday'] = ps.to_datetime(data_frame['Date']).dt.day_name()\n",
    "data_frame"
   ]
  },
  {
   "cell_type": "code",
   "execution_count": 38,
   "id": "9eeba227-8449-442e-bc1c-e96995d5ac03",
   "metadata": {},
   "outputs": [
    {
     "data": {
      "text/plain": [
       "DatetimeIndex(['2022-12-28', '2022-12-29', '2022-12-30', '2022-12-31',\n",
       "               '2023-01-01', '2023-01-02', '2023-01-03', '2023-01-04',\n",
       "               '2023-01-05', '2023-01-06', '2023-01-07', '2023-01-08',\n",
       "               '2023-01-09', '2023-01-10', '2023-01-11', '2023-01-12',\n",
       "               '2023-01-13', '2023-01-14', '2023-01-15', '2023-01-16',\n",
       "               '2023-01-17', '2023-01-18', '2023-01-19', '2023-01-20',\n",
       "               '2023-01-21', '2023-01-22', '2023-01-23', '2023-01-24',\n",
       "               '2023-01-25', '2023-01-26', '2023-01-27', '2023-01-28',\n",
       "               '2023-01-29', '2023-01-30', '2023-01-31', '2023-02-01',\n",
       "               '2023-02-02', '2023-02-03', '2023-02-04', '2023-02-05',\n",
       "               '2023-02-06', '2023-02-07'],\n",
       "              dtype='datetime64[ns]', freq='D')"
      ]
     },
     "execution_count": 38,
     "metadata": {},
     "output_type": "execute_result"
    }
   ],
   "source": [
    "#Q.12 Ans:-\n",
    "\n",
    "date = ps.date_range(start = '2022-12-28' ,end = '2023-02-07')\n",
    "date"
   ]
  },
  {
   "cell_type": "code",
   "execution_count": 39,
   "id": "da0f45c3-4fe2-44ae-b3ae-19558a4f04b3",
   "metadata": {},
   "outputs": [
    {
     "data": {
      "text/html": [
       "<div>\n",
       "<style scoped>\n",
       "    .dataframe tbody tr th:only-of-type {\n",
       "        vertical-align: middle;\n",
       "    }\n",
       "\n",
       "    .dataframe tbody tr th {\n",
       "        vertical-align: top;\n",
       "    }\n",
       "\n",
       "    .dataframe thead th {\n",
       "        text-align: right;\n",
       "    }\n",
       "</style>\n",
       "<table border=\"1\" class=\"dataframe\">\n",
       "  <thead>\n",
       "    <tr style=\"text-align: right;\">\n",
       "      <th></th>\n",
       "      <th>Date</th>\n",
       "    </tr>\n",
       "  </thead>\n",
       "  <tbody>\n",
       "    <tr>\n",
       "      <th>5</th>\n",
       "      <td>2023-01-02</td>\n",
       "    </tr>\n",
       "    <tr>\n",
       "      <th>6</th>\n",
       "      <td>2023-01-03</td>\n",
       "    </tr>\n",
       "    <tr>\n",
       "      <th>7</th>\n",
       "      <td>2023-01-04</td>\n",
       "    </tr>\n",
       "    <tr>\n",
       "      <th>8</th>\n",
       "      <td>2023-01-05</td>\n",
       "    </tr>\n",
       "    <tr>\n",
       "      <th>9</th>\n",
       "      <td>2023-01-06</td>\n",
       "    </tr>\n",
       "    <tr>\n",
       "      <th>10</th>\n",
       "      <td>2023-01-07</td>\n",
       "    </tr>\n",
       "    <tr>\n",
       "      <th>11</th>\n",
       "      <td>2023-01-08</td>\n",
       "    </tr>\n",
       "    <tr>\n",
       "      <th>12</th>\n",
       "      <td>2023-01-09</td>\n",
       "    </tr>\n",
       "    <tr>\n",
       "      <th>13</th>\n",
       "      <td>2023-01-10</td>\n",
       "    </tr>\n",
       "    <tr>\n",
       "      <th>14</th>\n",
       "      <td>2023-01-11</td>\n",
       "    </tr>\n",
       "    <tr>\n",
       "      <th>15</th>\n",
       "      <td>2023-01-12</td>\n",
       "    </tr>\n",
       "    <tr>\n",
       "      <th>16</th>\n",
       "      <td>2023-01-13</td>\n",
       "    </tr>\n",
       "    <tr>\n",
       "      <th>17</th>\n",
       "      <td>2023-01-14</td>\n",
       "    </tr>\n",
       "    <tr>\n",
       "      <th>18</th>\n",
       "      <td>2023-01-15</td>\n",
       "    </tr>\n",
       "    <tr>\n",
       "      <th>19</th>\n",
       "      <td>2023-01-16</td>\n",
       "    </tr>\n",
       "    <tr>\n",
       "      <th>20</th>\n",
       "      <td>2023-01-17</td>\n",
       "    </tr>\n",
       "    <tr>\n",
       "      <th>21</th>\n",
       "      <td>2023-01-18</td>\n",
       "    </tr>\n",
       "    <tr>\n",
       "      <th>22</th>\n",
       "      <td>2023-01-19</td>\n",
       "    </tr>\n",
       "    <tr>\n",
       "      <th>23</th>\n",
       "      <td>2023-01-20</td>\n",
       "    </tr>\n",
       "    <tr>\n",
       "      <th>24</th>\n",
       "      <td>2023-01-21</td>\n",
       "    </tr>\n",
       "    <tr>\n",
       "      <th>25</th>\n",
       "      <td>2023-01-22</td>\n",
       "    </tr>\n",
       "    <tr>\n",
       "      <th>26</th>\n",
       "      <td>2023-01-23</td>\n",
       "    </tr>\n",
       "    <tr>\n",
       "      <th>27</th>\n",
       "      <td>2023-01-24</td>\n",
       "    </tr>\n",
       "    <tr>\n",
       "      <th>28</th>\n",
       "      <td>2023-01-25</td>\n",
       "    </tr>\n",
       "    <tr>\n",
       "      <th>29</th>\n",
       "      <td>2023-01-26</td>\n",
       "    </tr>\n",
       "    <tr>\n",
       "      <th>30</th>\n",
       "      <td>2023-01-27</td>\n",
       "    </tr>\n",
       "    <tr>\n",
       "      <th>31</th>\n",
       "      <td>2023-01-28</td>\n",
       "    </tr>\n",
       "    <tr>\n",
       "      <th>32</th>\n",
       "      <td>2023-01-29</td>\n",
       "    </tr>\n",
       "    <tr>\n",
       "      <th>33</th>\n",
       "      <td>2023-01-30</td>\n",
       "    </tr>\n",
       "  </tbody>\n",
       "</table>\n",
       "</div>"
      ],
      "text/plain": [
       "         Date\n",
       "5  2023-01-02\n",
       "6  2023-01-03\n",
       "7  2023-01-04\n",
       "8  2023-01-05\n",
       "9  2023-01-06\n",
       "10 2023-01-07\n",
       "11 2023-01-08\n",
       "12 2023-01-09\n",
       "13 2023-01-10\n",
       "14 2023-01-11\n",
       "15 2023-01-12\n",
       "16 2023-01-13\n",
       "17 2023-01-14\n",
       "18 2023-01-15\n",
       "19 2023-01-16\n",
       "20 2023-01-17\n",
       "21 2023-01-18\n",
       "22 2023-01-19\n",
       "23 2023-01-20\n",
       "24 2023-01-21\n",
       "25 2023-01-22\n",
       "26 2023-01-23\n",
       "27 2023-01-24\n",
       "28 2023-01-25\n",
       "29 2023-01-26\n",
       "30 2023-01-27\n",
       "31 2023-01-28\n",
       "32 2023-01-29\n",
       "33 2023-01-30"
      ]
     },
     "execution_count": 39,
     "metadata": {},
     "output_type": "execute_result"
    }
   ],
   "source": [
    "df1 = ps.DataFrame({'Date': date})\n",
    "df1[(df1['Date'] > '2023-01-01') &  (df1['Date'] < '2023-01-31')]"
   ]
  },
  {
   "cell_type": "code",
   "execution_count": null,
   "id": "190556fb-aa6b-424f-8727-b44b52f3ee38",
   "metadata": {},
   "outputs": [],
   "source": [
    "#Q.13 Ans:-\n",
    "'''\n",
    "To use the basic function of pandas the first and foremost necessary library that needs to
     be imported is "import pandas"
   ]
  }
 ],
 "metadata": {
  "kernelspec": {
   "display_name": "Python 3 (ipykernel)",
   "language": "python",
   "name": "python3"
  },
  "language_info": {
   "codemirror_mode": {
    "name": "ipython",
    "version": 3
   },
   "file_extension": ".py",
   "mimetype": "text/x-python",
   "name": "python",
   "nbconvert_exporter": "python",
   "pygments_lexer": "ipython3",
   "version": "3.10.8"
  }
 },
 "nbformat": 4,
 "nbformat_minor": 5
}
