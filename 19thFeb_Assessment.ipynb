{
 "cells": [
  {
   "cell_type": "code",
   "execution_count": null,
   "id": "0580519d-32de-4fa5-8083-a2b5669308c7",
   "metadata": {},
   "outputs": [],
   "source": [
    "#Q.1 Ans:-\n",
    "'''\n",
    "Flask is a popular Python web framework, meaning it is a third-party Python library used for developing web applications.\n",
    "It was created by Armin Ronacher and is based on the Werkzeug toolkit and the Jinja2 template engine. Flask is known for \n",
    "its simplicity, flexibility, and lightweight nature.\n",
    "\n",
    "Advantages:-\n",
    "\n",
    "1.Lightweight and Flexible\n",
    "2.Easy to Learn\n",
    "3.Highly Customizable\n",
    "4.Good Documentation\n",
    "5.Built-in Development Server\n",
    "6.Good Community Support\n"
   ]
  },
  {
   "attachments": {
    "9fad11d7-22db-4b1c-ada2-71a65d13ea13.png": {
     "image/png": "[encoded data removed]"
    }
   },
   "cell_type": "markdown",
   "id": "3625939a-f67e-452b-9eb4-506ee463ff62",
   "metadata": {},
   "source": [
    "#Q.2 Ans:-\n",
    "'''\n",
    "from flask import Flask\n",
    "\n",
    "app = Flask(__name__)\n",
    "\n",
    "@app.route(\"/\")\n",
    "def hello_world():\n",
    "    return \"<h1>Hello, World!</h1>\"\n",
    "\n",
    "if __name__==\"__main__\":\n",
    "    app.run(host=\"0.0.0.0\")\n",
    "    \n",
    "![image.png](attachment:9fad11d7-22db-4b1c-ada2-71a65d13ea13.png)\n"
   ]
  },
  {
   "cell_type": "code",
   "execution_count": null,
   "id": "94120428-783e-4225-8500-047be5eb884b",
   "metadata": {},
   "outputs": [],
   "source": [
    "#Q.3 Ans:-\n",
    "'''\n",
    "In Flask, app routing refers to the process of mapping URLs to specific functions or view handlers in a web application. \n",
    "In other words, it is a way of defining what content should be displayed when a user visits a particular URL.\n",
    "\n",
    "App routes are used in Flask to handle different HTTP requests (like GET, POST, PUT, DELETE, etc.) and to render the \n",
    "appropriate response to the client. App routes are created using the @app.route() decorator, which is used to define a \n",
    "URL rule that maps to a specific view function.\n",
    "\n",
    "In the above example the function we want to map, will add @app.route(\"</path>\"). In above example /(root) is mapped to \n",
    "hello_word function."
   ]
  },
  {
   "cell_type": "code",
   "execution_count": null,
   "id": "25eff8c8-a90e-4aed-a66e-184dd6df7c9a",
   "metadata": {},
   "outputs": [],
   "source": [
    "#Q.4 Ans:-\n",
    "'''\n",
    "from flask import Flask\n",
    "\n",
    "app = Flask(__name__)\n",
    "\n",
    "@app.route(\"/\")\n",
    "def company():\n",
    "    data = '''<p>Name: ABC Corporation <br>\n",
    "    Location: India <br>\n",
    "    Contact Detail: 999-999-9999<p>\n",
    "    '''\n",
    "    return data\n",
    "\n",
    "\n",
    "@app.route('/welcome')\n",
    "def welcome():\n",
    "    return \"Welcome to ABC Corporation\"\n",
    "\n",
    "if __name__==\"__main__\":\n",
    "    app.run(host=\"0.0.0.0\")\n",
    "    \n",
    "#Output is attached."
   ]
  },
  {
   "cell_type": "code",
   "execution_count": null,
   "id": "3dede455-ac3c-4722-851f-bc7122e77ab1",
   "metadata": {},
   "outputs": [],
   "source": [
    "#Q.5 Ans:-\n",
    "'''\n",
    "The url_for() function is used to build a URL to the specific function dynamically. The first argument is the name of \n",
    "the specified function, and then we can pass any number of keyword argument corresponding to the variable part of the URL.\n",
    "\n",
    "--In below example using url_for() to redirect /home to /\n",
    "\n",
    "from flask import *\n",
    "\n",
    "app = Flask(__name__)\n",
    "\n",
    "@app.route(\"/\")\n",
    "def company():\n",
    "    data = '''\n",
    "    <a href=\"{{ url_for('welcome') }}\"> Welcome Page </a>\n",
    "    <p>Name: Lets build Corporation <br>\n",
    "    Location: India <br>\n",
    "    Contact Detail: 999-888-9999<br><p>\n",
    "    '''\n",
    "    return data\n",
    "\n",
    "\n",
    "@app.route('/home')\n",
    "def home():\n",
    "    return redirect(url_for('company')) \n",
    "\n",
    "if __name__==\"__main__\":\n",
    "    app.run(host=\"0.0.0.0\")\n"
   ]
  }
 ],
 "metadata": {
  "kernelspec": {
   "display_name": "Python 3 (ipykernel)",
   "language": "python",
   "name": "python3"
  },
  "language_info": {
   "codemirror_mode": {
    "name": "ipython",
    "version": 3
   },
   "file_extension": ".py",
   "mimetype": "text/x-python",
   "name": "python",
   "nbconvert_exporter": "python",
   "pygments_lexer": "ipython3",
   "version": "3.10.8"
  }
 },
 "nbformat": 4,
 "nbformat_minor": 5
}
