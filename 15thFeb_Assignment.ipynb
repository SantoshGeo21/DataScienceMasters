{
 "cells": [
  {
   "cell_type": "code",
   "execution_count": null,
   "id": "4805dc54-4da5-4057-bfbd-c4d5c4536b94",
   "metadata": {},
   "outputs": [],
   "source": [
    "#Q.1 Ans:-\n",
    "'''\n",
    "Multiprocessing refers to the ability of a system to support more than one processor at the same time.\n",
    "Applications in a multiprocessing system are broken to smaller routines that run independently. The operating system \n",
    "allocates these threads to the processors improving performance of the system.\n",
    "The biggest advantage of a multiprocessor system is that it helps you to get more work done in a shorter period.\n",
    "'''"
   ]
  },
  {
   "cell_type": "code",
   "execution_count": null,
   "id": "3732d082-6ecc-45a9-8b58-17559e8c59ae",
   "metadata": {},
   "outputs": [],
   "source": [
    "#Q.2 Ans:-\n",
    "'''\n",
    "A multiprocessing system has more than two processors whereas Multithreading is a program execution technique that allows\n",
    "a single process to have multiple code segments\n",
    "\n",
    "Multiprocessing improves the reliability of the system while in the multithreading process, each thread runs parallel to \n",
    "each other.\n",
    "\n",
    "Multiprocessing helps you to increase computing power whereas multithreading helps you create computing threads of a \n",
    "single process\n",
    "\n",
    "In Multiprocessing, the creation of a process, is slow and resource-specific whereas, in multithreading, the creation of \n",
    "a thread is economical in time and resource.\n",
    "\n",
    "Multithreading avoids pickling, whereas Multiprocessing relies on pickling objects in memory to send to other processes.\n",
    "\n",
    "'''"
   ]
  },
  {
   "cell_type": "code",
   "execution_count": 3,
   "id": "5bad56a9-4234-4c44-8a9e-8f5b294ed4ce",
   "metadata": {},
   "outputs": [
    {
     "name": "stdout",
     "output_type": "stream",
     "text": [
      "Sleeping for 3 seconds\n",
      "Sleeping for 3 seconds\n",
      "Finished sleeping: 3\n",
      "Finished sleeping: 3\n",
      "Program finished in 3.018 seconds\n"
     ]
    }
   ],
   "source": [
    "#Q.3 Ans:-\n",
    "import time\n",
    "import multiprocessing as cp\n",
    "\n",
    "def task1(sleep_sec):\n",
    "    print(f'Sleeping for {sleep_sec} seconds')\n",
    "    time.sleep(sleep_sec)\n",
    "    print(f'Finished sleeping: {sleep_sec}')\n",
    "\n",
    "\n",
    "if __name__ == \"__main__\":\n",
    "    start_time = time.perf_counter()\n",
    "    p1 = cp.Process(target=task1, args=(3,))\n",
    "    p2 = cp.Process(target=task1, args=(3,))\n",
    "    p1.start()\n",
    "    p2.start()\n",
    "    p1.join()\n",
    "    p2.join()\n",
    "    finish_time = time.perf_counter()\n",
    "    print(f\"Program finished in {(finish_time - start_time):.3f} seconds\")"
   ]
  },
  {
   "cell_type": "code",
   "execution_count": null,
   "id": "62e99c6d-4b28-492a-99d6-e01487108481",
   "metadata": {},
   "outputs": [],
   "source": [
    "#Q.4 Ans:-\n",
    "'''\n",
    "A pool is a collection of processes used to execute tasks in parallel. Pools help divide an enormous task into smaller \n",
    "parts that multiple processors can handle.\n",
    "\n",
    "With the Pool we can increase the no. of workers and then execute the task simultaneously."
   ]
  },
  {
   "cell_type": "code",
   "execution_count": 4,
   "id": "6f3c4322-5783-4765-a38e-a751b1e84c97",
   "metadata": {},
   "outputs": [
    {
     "name": "stdout",
     "output_type": "stream",
     "text": [
      "925163636     4975696464    [9, 16, 25, 36, 36, 49, 7569, 64, 64]\n"
     ]
    }
   ],
   "source": [
    "#Q.5 Ans:-\n",
    "import multiprocessing as cp\n",
    "import time\n",
    "def square(n):\n",
    "    time.sleep(2)\n",
    "    res = n**2\n",
    "    print(res, end=' ')\n",
    "    return res\n",
    "\n",
    "if __name__ == '__main__':\n",
    "    with cp.Pool(5) as pool :\n",
    "        out = pool.map(square , [3,4,5,6,6,7,87,8,8])\n",
    "        print(out)"
   ]
  },
  {
   "cell_type": "code",
   "execution_count": null,
   "id": "39f874c2-a955-4214-9b82-67b9116c1f8f",
   "metadata": {},
   "outputs": [],
   "source": [
    "#Q.6"
   ]
  }
 ],
 "metadata": {
  "kernelspec": {
   "display_name": "Python 3 (ipykernel)",
   "language": "python",
   "name": "python3"
  },
  "language_info": {
   "codemirror_mode": {
    "name": "ipython",
    "version": 3
   },
   "file_extension": ".py",
   "mimetype": "text/x-python",
   "name": "python",
   "nbconvert_exporter": "python",
   "pygments_lexer": "ipython3",
   "version": "3.10.8"
  }
 },
 "nbformat": 4,
 "nbformat_minor": 5
}
