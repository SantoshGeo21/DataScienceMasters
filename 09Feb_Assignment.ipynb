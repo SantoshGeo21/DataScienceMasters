{
 "cells": [
  {
   "cell_type": "code",
   "execution_count": 18,
   "id": "75703741-7757-479d-884b-6c2cdb6add22",
   "metadata": {},
   "outputs": [],
   "source": [
    "#Q.1 Ans:-\n",
    "class Vechicle:\n",
    "    def __init__(self,name_of_vechicle,max_speed,average_of_vechicle):\n",
    "        self.name_of_vechicle=name_of_vechicle\n",
    "        self.max_speed=max_speed\n",
    "        self.average_of_vechicle=average_of_vechicle\n",
    "    def Vechicle_details(self):\n",
    "        print(self.name_of_vechicle,self.max_speed,self.average_of_vechicle)\n",
    "        "
   ]
  },
  {
   "cell_type": "code",
   "execution_count": 9,
   "id": "c8561c1b-c185-4169-b35d-5cce6e0b95f2",
   "metadata": {},
   "outputs": [],
   "source": [
    "f=Vechicle('BMW',200,20)"
   ]
  },
  {
   "cell_type": "code",
   "execution_count": 10,
   "id": "ca8a7772-19d5-422f-aadb-a092864b9e4a",
   "metadata": {},
   "outputs": [
    {
     "data": {
      "text/plain": [
       "'BMW'"
      ]
     },
     "execution_count": 10,
     "metadata": {},
     "output_type": "execute_result"
    }
   ],
   "source": [
    "f.name_of_vechicle"
   ]
  },
  {
   "cell_type": "code",
   "execution_count": 11,
   "id": "2b09b878-4fae-45df-adea-9d68a1b76250",
   "metadata": {},
   "outputs": [
    {
     "data": {
      "text/plain": [
       "200"
      ]
     },
     "execution_count": 11,
     "metadata": {},
     "output_type": "execute_result"
    }
   ],
   "source": [
    "f.max_speed"
   ]
  },
  {
   "cell_type": "code",
   "execution_count": 12,
   "id": "ba565114-b0de-4f25-b046-d2e101f0ee5d",
   "metadata": {},
   "outputs": [
    {
     "data": {
      "text/plain": [
       "20"
      ]
     },
     "execution_count": 12,
     "metadata": {},
     "output_type": "execute_result"
    }
   ],
   "source": [
    "f.average_of_vechicle"
   ]
  },
  {
   "cell_type": "code",
   "execution_count": 20,
   "id": "90f4ed15-822d-4b6c-b628-0c2618fbb814",
   "metadata": {},
   "outputs": [],
   "source": [
    "#Q.2 Ans:-\n",
    "class Car(Vechicle):\n",
    "    def seating_capacity(self,capacity):\n",
    "        self.capacity=capacity\n",
    "        return self.capacity,self.name_of_vechicle\n"
   ]
  },
  {
   "cell_type": "code",
   "execution_count": null,
   "id": "6aa70f72-01bd-4ee5-aa04-e7aa9601fd3f",
   "metadata": {},
   "outputs": [],
   "source": [
    "#Q.3 Ans:-\n",
    "'''\n",
    "Multiple Inheritance - When a class is derived from more than one base class it is called multiple \n",
    "Inheritance. The derived class inherits all the features of the base case.\n",
    "'''"
   ]
  },
  {
   "cell_type": "code",
   "execution_count": 23,
   "id": "57e4dc06-486d-49fa-93bc-4c194ab8cf64",
   "metadata": {},
   "outputs": [],
   "source": [
    "# Base class1\n",
    "class Maa:\n",
    "    def Maa(self):\n",
    "        print('Maa')\n",
    "\n",
    "# Base class2\n",
    "class Papa:\n",
    "    def Papa(self):\n",
    "        print(\"Papa\")\n",
    "\n",
    "# Derived class\n",
    "class Son(Maa, Papa):\n",
    "    def parents(self):\n",
    "        self.Maa()\n",
    "        self.Papa()\n"
   ]
  },
  {
   "cell_type": "code",
   "execution_count": 24,
   "id": "e2a203f5-b1ef-476c-90f0-d3d0893efea1",
   "metadata": {},
   "outputs": [],
   "source": [
    "s1=Son()"
   ]
  },
  {
   "cell_type": "code",
   "execution_count": 25,
   "id": "c871b373-2cdb-48e2-8183-c8b1c5e52e6a",
   "metadata": {},
   "outputs": [
    {
     "name": "stdout",
     "output_type": "stream",
     "text": [
      "Maa\n",
      "Papa\n"
     ]
    }
   ],
   "source": [
    "s1.parents()"
   ]
  },
  {
   "cell_type": "code",
   "execution_count": 28,
   "id": "addbb735-e22e-4e1c-a327-36b58cd282b6",
   "metadata": {},
   "outputs": [],
   "source": [
    "#Q.4 Ans:-\n",
    "'''We use getters & setters to add validation logic around getting and setting a value.\n",
    "To avoid direct access of a class field i.e. private variables cannot be accessed directly or modified by external user.\n",
    "'''\n",
    "class Geek:\n",
    "\tdef __init__(self, age = 0):\n",
    "\t\tself._age = age\n",
    "\t\n",
    "\t# getter method\n",
    "\tdef get_age(self):\n",
    "\t\treturn self._age\n",
    "\t\n",
    "\t# setter method\n",
    "\tdef set_age(self, x):\n",
    "\t\tself._age = x\n"
   ]
  },
  {
   "cell_type": "code",
   "execution_count": 29,
   "id": "9b510b44-3926-49d7-a59a-26f8a0af9e76",
   "metadata": {},
   "outputs": [],
   "source": [
    "Sam = Geek()"
   ]
  },
  {
   "cell_type": "code",
   "execution_count": 32,
   "id": "55989788-cd14-4c3f-aa8e-c41c2b042cae",
   "metadata": {},
   "outputs": [],
   "source": [
    "Sam.set_age(26)"
   ]
  },
  {
   "cell_type": "code",
   "execution_count": 33,
   "id": "4b62f2d4-74fe-4182-9553-4d0a1d3d92fb",
   "metadata": {},
   "outputs": [
    {
     "name": "stdout",
     "output_type": "stream",
     "text": [
      "26\n"
     ]
    }
   ],
   "source": [
    "print(Sam.get_age())"
   ]
  },
  {
   "cell_type": "code",
   "execution_count": 34,
   "id": "e24d0f06-d5ee-41e7-a842-e3b8df76f723",
   "metadata": {},
   "outputs": [
    {
     "name": "stdout",
     "output_type": "stream",
     "text": [
      "26\n"
     ]
    }
   ],
   "source": [
    "print(Sam._age)"
   ]
  },
  {
   "cell_type": "code",
   "execution_count": 42,
   "id": "3d4b0ef2-41de-45ca-9b1c-c42bdecb7266",
   "metadata": {},
   "outputs": [],
   "source": [
    "#Q.5 Ans:-\n",
    "'''\n",
    "Method overriding is a way to override methods of Parent class to the child class. It helps to make \n",
    "code redundant and prevent from writing same codes again and again.\n",
    "\n",
    "'''\n",
    "class Vehicle:\n",
    "    def apply_breaks(self):\n",
    "        print('Stop the Vehicle')\n",
    "\n",
    "\n",
    "class Motor(Vehicle):\n",
    "    def apply_break(self):\n",
    "        print('Stop the car from overspeeding')"
   ]
  },
  {
   "cell_type": "code",
   "execution_count": 43,
   "id": "8d62e9a4-0411-4b1d-8955-3083446331ad",
   "metadata": {},
   "outputs": [],
   "source": [
    "S=Motor()"
   ]
  },
  {
   "cell_type": "code",
   "execution_count": 46,
   "id": "488b7db6-c1cb-4f5f-8fc1-3bfc166ccd33",
   "metadata": {},
   "outputs": [
    {
     "name": "stdout",
     "output_type": "stream",
     "text": [
      "Stop the Vehicle\n"
     ]
    }
   ],
   "source": [
    "#Overriding from Parent(Vehicle) class\n",
    "S.apply_breaks()"
   ]
  },
  {
   "cell_type": "code",
   "execution_count": null,
   "id": "5faac09b-c3b6-461b-826e-e67bface52fd",
   "metadata": {},
   "outputs": [],
   "source": []
  }
 ],
 "metadata": {
  "kernelspec": {
   "display_name": "Python 3 (ipykernel)",
   "language": "python",
   "name": "python3"
  },
  "language_info": {
   "codemirror_mode": {
    "name": "ipython",
    "version": 3
   },
   "file_extension": ".py",
   "mimetype": "text/x-python",
   "name": "python",
   "nbconvert_exporter": "python",
   "pygments_lexer": "ipython3",
   "version": "3.10.8"
  }
 },
 "nbformat": 4,
 "nbformat_minor": 5
}
