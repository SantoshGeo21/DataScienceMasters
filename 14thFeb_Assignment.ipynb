{
 "cells": [
  {
   "cell_type": "code",
   "execution_count": null,
   "id": "93f16cf2-b3b6-4138-892c-cc4d3cb25ea8",
   "metadata": {},
   "outputs": [],
   "source": [
    "#Q.1 Ans:-\n",
    "'''\n",
    "Multithreading is a concept which allows us to break down an application into multiple sub-tasks and run these tasks \n",
    "simultaneously.It is defined as the ability of a processor to execute multiple threads concurrently.\n",
    "\n",
    "Successful implication of multithreading can help application performance to improve and work more efficiently.\n",
    "\n",
    "Python provides inbuilt module \"threading\" to provide support in handling threads."
   ]
  },
  {
   "cell_type": "code",
   "execution_count": 2,
   "id": "cfac5076-077b-4d96-a959-54e0da1d1307",
   "metadata": {},
   "outputs": [
    {
     "name": "stdout",
     "output_type": "stream",
     "text": [
      "The Number of active Threads: 11\n",
      "The Number of active Threads: 10\n"
     ]
    }
   ],
   "source": [
    "#Q.2 Ans:-\n",
    "'''\n",
    "i.)\"active_count()\"\n",
    "This function returns the number of active threads currently running in a code.\n",
    "'''\n",
    "import time\n",
    "from threading import *\n",
    "def test(id) :\n",
    "    for i in range(id):\n",
    "        time.sleep(0.5)\n",
    "\n",
    "thred = [Thread(target=test , args = (i,)) for i in [10 , 2 , 5]]\n",
    "for t in thred:\n",
    "    t.start()\n",
    "print(\"The Number of active Threads:\",active_count())\n",
    "time.sleep(2)\n",
    "print(\"The Number of active Threads:\",active_count())"
   ]
  },
  {
   "cell_type": "code",
   "execution_count": 3,
   "id": "5ee94d94-3165-402e-9a57-0c6e16002172",
   "metadata": {},
   "outputs": [
    {
     "name": "stdout",
     "output_type": "stream",
     "text": [
      "Current Executing Thread: MainThread\n"
     ]
    },
    {
     "name": "stderr",
     "output_type": "stream",
     "text": [
      "/tmp/ipykernel_70/229860546.py:6: DeprecationWarning: getName() is deprecated, get the name attribute instead\n",
      "  print(\"Current Executing Thread:\",threading.current_thread().getName())\n"
     ]
    }
   ],
   "source": [
    "'''\n",
    "ii).\"current_thread()\"\n",
    "We use the current_thread() function to get the current thread object in a code.\n",
    "'''\n",
    "import threading\n",
    "print(\"Current Executing Thread:\",threading.current_thread().getName())"
   ]
  },
  {
   "cell_type": "code",
   "execution_count": 4,
   "id": "ecb11f0a-73bd-456a-a624-c1d16ebe65ad",
   "metadata": {},
   "outputs": [
    {
     "name": "stdout",
     "output_type": "stream",
     "text": [
      "<_MainThread(MainThread, started 140133857404736)>\n",
      "<Thread(IOPub, started daemon 140133786875456)>\n",
      "<Heartbeat(Heartbeat, started daemon 140133709903424)>\n",
      "<Thread(Thread-3 (_watch_pipe_fd), started daemon 140133684725312)>\n",
      "<Thread(Thread-4 (_watch_pipe_fd), started daemon 140133676332608)>\n",
      "<ControlThread(Control, started daemon 140133667939904)>\n",
      "<HistorySavingThread(IPythonHistorySavingThread, started 140133659547200)>\n",
      "<ParentPollerUnix(Thread-2, started daemon 140133240141376)>\n"
     ]
    }
   ],
   "source": [
    "'''\n",
    "iii).\"enumerate()\"\n",
    "This function returns a list of all active threads currently running.\n",
    "'''\n",
    "from threading import *\n",
    "threads =enumerate()\n",
    "for i in threads:\n",
    "    print(i)"
   ]
  },
  {
   "cell_type": "code",
   "execution_count": 5,
   "id": "3fe9f9c4-fa55-4c66-ba3f-0271e9fb6a4d",
   "metadata": {},
   "outputs": [
    {
     "name": "stdout",
     "output_type": "stream",
     "text": [
      "This is my custom run!\n"
     ]
    }
   ],
   "source": [
    "#Q.3 Ans:-\n",
    "'''\n",
    "i).\"run()\"\n",
    "\n",
    "The \".run()\" method executes any target function belonging to a given thread object that is now active.\n",
    "It normally executes in the background after the start() method is invoked.\n",
    "'''\n",
    "import threading\n",
    "\n",
    "class CustomThread(threading.Thread):\n",
    "  def run(self):\n",
    "    print(\"This is my custom run!\")\n",
    "\n",
    "custom_thread = CustomThread()\n",
    "custom_thread.start()\n"
   ]
  },
  {
   "cell_type": "code",
   "execution_count": null,
   "id": "61a9271b-cde9-44ba-95f6-374976f4dd64",
   "metadata": {},
   "outputs": [],
   "source": [
    "'''\n",
    "ii).\"start()\"\n",
    "When a thread instance is created, it doesn’t start executing until its start() method (which invokes the target function\n",
    "with the arguments you supplied) is invoked.\n",
    "\n",
    "iii).\"join()\"\n",
    "If a thread wants to wait until completing some other thread then we should go for join() method.\n",
    "\n",
    "iv).\"isAlive()\"\n",
    "\"isAlive()\" method checks whether a thread is still executing or not."
   ]
  },
  {
   "cell_type": "code",
   "execution_count": 9,
   "id": "3d876b4d-0af3-4161-82d5-62b2f1da24e5",
   "metadata": {},
   "outputs": [
    {
     "name": "stdout",
     "output_type": "stream",
     "text": [
      "[100, 121, 256]\n",
      "[1000, 1331, 4096]\n"
     ]
    }
   ],
   "source": [
    "#Q.4 Ans:-\n",
    "\n",
    "from threading import *\n",
    "\n",
    "def square(n_list):\n",
    "    print([i*i for i in num_list])\n",
    "\n",
    "def cube(nlist):\n",
    "    print([i*i*i for i in num_list])\n",
    "    \n",
    "num_list = [10,11,16]\n",
    "t1 = Thread(target=square , args = (num_list,))\n",
    "t2 = Thread(target=cube , args = (num_list,))\n",
    "t1.start()\n",
    "t2.start()"
   ]
  },
  {
   "cell_type": "code",
   "execution_count": null,
   "id": "ebf07fa2-c4aa-4335-b096-f8eeefae606b",
   "metadata": {},
   "outputs": [],
   "source": [
    "#Q.5 Ans:-\n",
    "'''\n",
    "\"Advantages of multithreading\":-\n",
    "\n",
    "Improved performance: Multithreading can improve the performance of a program by allowing it to perform multiple tasks \n",
    "concurrently, thus reducing the time required to complete those tasks.\n",
    "\n",
    "Increased responsiveness: By using multithreading, a program can respond more quickly to user input because it can \n",
    "continue to perform other tasks in the background while waiting for user input.\n",
    "\n",
    "Resource sharing: Multithreading allows multiple threads to share resources such as memory, I/O devices, and other system\n",
    "resources, which can lead to more efficient use of system resources.\n",
    "\n",
    "Simplified coding: Multithreading can simplify the coding of complex tasks by breaking them down into smaller, more \n",
    "manageable tasks that can be performed concurrently.\n",
    "\n",
    "Scalability: Multithreading allows a program to scale up its performance to take advantage of the available hardware \n",
    "resources, which can be especially important for large-scale systems.\n",
    "\n",
    "Reduced blocking: Multithreading can reduce the risk of a program getting blocked or deadlocked, because it can continue \n",
    "to execute other threads even if one thread gets blocked.\n",
    "\n",
    "Flexibility: Multithreading can make a program more flexible, allowing it to adapt to changing conditions or workloads. \n",
    "For example, a program can dynamically create and destroy threads as needed to handle varying workloads.\n",
    "\n",
    "\"Disdvantages of multithreading\":-\n",
    "\n",
    "Complexity: Multithreading can add complexity to a program, particularly when multiple threads need to access the same \n",
    "data or resources. This can lead to race conditions, deadlocks, and other synchronization issues that can be difficult \n",
    "to debug.\n",
    "\n",
    "Increased overhead: Multithreading can require more memory and processing power, as each thread requires its own stack, \n",
    "register set, and other resources. This can lead to increased overhead and reduced performance, particularly if the \n",
    "system is already under heavy load.\n",
    "\n",
    "Difficulty in debugging: Debugging multithreaded applications can be difficult, as bugs may only appear when certain \n",
    "threads are running or when multiple threads interact in a certain way. This can make it harder to reproduce and diagnose\n",
    "issues.\n",
    "\n",
    "Synchronization overhead: Synchronization between threads can be expensive, particularly if locks are used excessively. \n",
    "This can lead to contention for resources and reduced performance.\n",
    "\n",
    "Difficult to predict: The performance of a multithreaded program can be difficult to predict, as it can depend on factors\n",
    "such as the number of threads, the order in which they execute, and the behavior of the operating system scheduler.\n",
    "\n",
    "Security risks: Multithreading can also introduce security risks, particularly if threads are not properly isolated from \n",
    "each other. For example, one thread may be able to access sensitive data or modify the state of another thread.\n"
   ]
  },
  {
   "cell_type": "code",
   "execution_count": null,
   "id": "43d6ab39-03ce-4fb1-af93-f436cb58e023",
   "metadata": {},
   "outputs": [],
   "source": [
    "#Q.6 Ans:-\n",
    "'''\n",
    "A situation where a set of processes are blocked because each process is holding a resource and waiting for another \n",
    "resource acquired by some other process. This block situation is called \"Deadlock(DL)\".\n",
    "\n",
    "Race condition is an undesirable condition that usually happens due to multiple threads accessing a shared resource at \n",
    "the same time. Due to which shared data are not synchronized,"
   ]
  }
 ],
 "metadata": {
  "kernelspec": {
   "display_name": "Python 3 (ipykernel)",
   "language": "python",
   "name": "python3"
  },
  "language_info": {
   "codemirror_mode": {
    "name": "ipython",
    "version": 3
   },
   "file_extension": ".py",
   "mimetype": "text/x-python",
   "name": "python",
   "nbconvert_exporter": "python",
   "pygments_lexer": "ipython3",
   "version": "3.10.8"
  }
 },
 "nbformat": 4,
 "nbformat_minor": 5
}
