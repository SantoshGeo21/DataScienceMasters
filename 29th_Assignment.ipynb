{
 "cells": [
  {
   "cell_type": "markdown",
   "id": "fb74a305-1fea-48dd-9b1e-72817fa8a11d",
   "metadata": {},
   "source": [
    "'''\n",
    "##Assignments##\n",
    "1Ans. Python Programming language is developed by \"Guido Van Rossum\"\n",
    "2Ans. Python supports object oriented programming language.\n",
    "3Ans. Yes, Python is case sensitive.\n",
    "4Ans. .py is the correct extension of python file.\n",
    "5Ans. Python code is both compiled and interpreted.\n",
    "6Ans. a=\"PWSkills Data Science Masters\"\n",
    "      print(a)\n",
    "      Outcome- \"PWSkills Data Science Masters\"\n",
    "7Ans. '#' character is used for single line comment in Python.\n",
    "8Ans. First of all we need to import python_version from platform and then have to use function python_version() to get the         current installed version.\n",
    "9Ans. Lambda\n",
    "10Ans.pip in python stands for \"preferred Installer program\"\n",
    "11Ans.len,Upper,lower,replace,strip,count etc are few built in fuctions of Python.\n",
    "12Ans.79\n",
    "13Ans.Python is easy to use and learn moreover having highest number of libraries to use and apply among all the programming         languages.\n",
    "14Ans.Memory management in python involves a private heap containing all Python objects and data structures. This heap is   \n",
    "      ensured internally by the Python memory manager.\n",
    "15Ans.Just download the python executable from portal for Windows machine and wherever it's downloaded, copy that path and set \n",
    "      it in your system varriable. So that you could execute the python from anywhere on your system.\n",
    "16Ans.Yes, indentation matters a lot in Python.\n",
    "                            ***********The END***********'''"
   ]
  }
 ],
 "metadata": {
  "kernelspec": {
   "display_name": "Python 3 (ipykernel)",
   "language": "python",
   "name": "python3"
  },
  "language_info": {
   "codemirror_mode": {
    "name": "ipython",
    "version": 3
   },
   "file_extension": ".py",
   "mimetype": "text/x-python",
   "name": "python",
   "nbconvert_exporter": "python",
   "pygments_lexer": "ipython3",
   "version": "3.10.8"
  }
 },
 "nbformat": 4,
 "nbformat_minor": 5
}
