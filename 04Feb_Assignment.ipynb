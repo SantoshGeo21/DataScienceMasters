{
 "cells": [
  {
   "cell_type": "code",
   "execution_count": 1,
   "id": "e16adada-8604-4425-b5db-79a36c8609c0",
   "metadata": {},
   "outputs": [],
   "source": [
    "#1.Ans - \n",
    "A=[('Sachin Tendulkar', 34357), ('Ricky Ponting', 27483), ('Jack Kallis', 25534), ('Virat Kohli', 24936)]"
   ]
  },
  {
   "cell_type": "code",
   "execution_count": 7,
   "id": "302be7e5-c64b-4f80-98c8-02adeaafbc1e",
   "metadata": {},
   "outputs": [],
   "source": [
    "B=tuple(A)"
   ]
  },
  {
   "cell_type": "code",
   "execution_count": 8,
   "id": "4f02b3fa-3b4b-4efa-ac12-186c80627152",
   "metadata": {},
   "outputs": [
    {
     "data": {
      "text/plain": [
       "(('Sachin Tendulkar', 34357),\n",
       " ('Ricky Ponting', 27483),\n",
       " ('Jack Kallis', 25534),\n",
       " ('Virat Kohli', 24936))"
      ]
     },
     "execution_count": 8,
     "metadata": {},
     "output_type": "execute_result"
    }
   ],
   "source": [
    "B"
   ]
  },
  {
   "cell_type": "code",
   "execution_count": 21,
   "id": "84f4b49c-9abe-4824-bbd5-2eab5ee767ab",
   "metadata": {},
   "outputs": [],
   "source": [
    "def lambda_test(A,B):\n",
    "    return B[::-1]"
   ]
  },
  {
   "cell_type": "code",
   "execution_count": 22,
   "id": "a92c5006-4308-4a1b-b891-b1bc72ccf5ba",
   "metadata": {},
   "outputs": [
    {
     "data": {
      "text/plain": [
       "(('Virat Kohli', 24936),\n",
       " ('Jack Kallis', 25534),\n",
       " ('Ricky Ponting', 27483),\n",
       " ('Sachin Tendulkar', 34357))"
      ]
     },
     "execution_count": 22,
     "metadata": {},
     "output_type": "execute_result"
    }
   ],
   "source": [
    "lambda_test(A,B)"
   ]
  },
  {
   "cell_type": "code",
   "execution_count": 37,
   "id": "859f8baa-92a9-4baa-b008-9ced8211b940",
   "metadata": {},
   "outputs": [
    {
     "name": "stdout",
     "output_type": "stream",
     "text": [
      "Original list of integers:\n",
      "[1, 2, 3, 4, 5, 6, 7, 8, 9, 10]\n",
      "\n",
      "Square every number of the said list:\n",
      "[1, 4, 9, 16, 25, 36, 49, 64, 81, 100]\n"
     ]
    }
   ],
   "source": [
    "#2.Ans -\n",
    "list_A=[1, 2, 3, 4, 5, 6, 7, 8, 9, 10]\n",
    "print(\"Original list of integers:\")\n",
    "print(list_A)\n",
    "print(\"\\nSquare every number of the said list:\")\n",
    "square_nums = list(map(lambda x: x ** 2, list_A))\n",
    "print(square_nums)\n",
    "    "
   ]
  },
  {
   "cell_type": "code",
   "execution_count": 39,
   "id": "89c83531-c6e0-4c0f-b2af-4c9b5caae120",
   "metadata": {},
   "outputs": [],
   "source": [
    "#3.Ans -\n",
    "Given_list=[1, 2, 3, 4, 5, 6, 7, 8, 9, 10]"
   ]
  },
  {
   "cell_type": "code",
   "execution_count": 42,
   "id": "ccd280fe-9246-46c7-a97b-403b1b8ff97c",
   "metadata": {},
   "outputs": [
    {
     "data": {
      "text/plain": [
       "('1', '2', '3', '4', '5', '6', '7', '8', '9', '10')"
      ]
     },
     "execution_count": 42,
     "metadata": {},
     "output_type": "execute_result"
    }
   ],
   "source": [
    "tuple(map(lambda x : str(x) ,Given_list))"
   ]
  },
  {
   "cell_type": "code",
   "execution_count": 43,
   "id": "6c29dfbc-dc77-4318-be49-4cc3ad60705b",
   "metadata": {},
   "outputs": [],
   "source": [
    "#4.Ans -\n",
    "list_B = [1,2,3,4,5,6,7,8,9,10,11,12,13,14,15,16,17,18,19,20,21,22,23,24,25]"
   ]
  },
  {
   "cell_type": "code",
   "execution_count": 45,
   "id": "8c23cdd8-d131-49ec-9144-1d94fdb51445",
   "metadata": {},
   "outputs": [],
   "source": [
    "from functools import  reduce"
   ]
  },
  {
   "cell_type": "code",
   "execution_count": 46,
   "id": "c556fa5f-2bf0-4a0c-b6be-38be0acef4fe",
   "metadata": {},
   "outputs": [
    {
     "data": {
      "text/plain": [
       "325"
      ]
     },
     "execution_count": 46,
     "metadata": {},
     "output_type": "execute_result"
    }
   ],
   "source": [
    "reduce(lambda x , y : x+y , list_B)"
   ]
  },
  {
   "cell_type": "code",
   "execution_count": 47,
   "id": "d90203fc-e90b-4c73-9a38-54d71e1eeb18",
   "metadata": {},
   "outputs": [],
   "source": [
    "#5.Ans -\n",
    "list_C = [2, 3, 6, 9, 27, 60, 90, 120, 55, 46]"
   ]
  },
  {
   "cell_type": "code",
   "execution_count": 48,
   "id": "f80f1559-b48d-4366-b35c-5540eeab32b6",
   "metadata": {},
   "outputs": [
    {
     "data": {
      "text/plain": [
       "[2, 6, 60, 90, 120, 46]"
      ]
     },
     "execution_count": 48,
     "metadata": {},
     "output_type": "execute_result"
    }
   ],
   "source": [
    "list(filter(lambda x : x % 2 ==0 , list_C)) #Divisible by 2"
   ]
  },
  {
   "cell_type": "code",
   "execution_count": 49,
   "id": "d83e932d-828a-4636-8a70-d2344c2112a6",
   "metadata": {},
   "outputs": [
    {
     "data": {
      "text/plain": [
       "[3, 6, 9, 27, 60, 90, 120]"
      ]
     },
     "execution_count": 49,
     "metadata": {},
     "output_type": "execute_result"
    }
   ],
   "source": [
    "list(filter(lambda x : x % 3 ==0 , list_C)) #Divisible by 3"
   ]
  },
  {
   "cell_type": "code",
   "execution_count": 50,
   "id": "0ba1a4aa-e2de-4e2a-a665-3faa9a5e5edb",
   "metadata": {},
   "outputs": [
    {
     "data": {
      "text/plain": [
       "[6, 60, 90, 120]"
      ]
     },
     "execution_count": 50,
     "metadata": {},
     "output_type": "execute_result"
    }
   ],
   "source": [
    "#Divisible by 2 and 3 means divisible by 6\n",
    "list(filter(lambda x : x % 6 ==0 , list_C))"
   ]
  },
  {
   "cell_type": "code",
   "execution_count": 52,
   "id": "417265fc-0e1a-4617-92aa-cfb33d9506ef",
   "metadata": {},
   "outputs": [
    {
     "name": "stdout",
     "output_type": "stream",
     "text": [
      "Orginal list of strings:\n",
      "['python', 'php', 'aba', 'radar', 'level']\n",
      "\n",
      "List of palindromes:\n",
      "['php', 'aba', 'radar', 'level']\n"
     ]
    }
   ],
   "source": [
    "#6.Ans - \n",
    "Given_Texts = ['python', 'php', 'aba', 'radar', 'level']\n",
    "print(\"Orginal list of strings:\")\n",
    "print(Given_Texts) \n",
    "Result = list(filter(lambda x: (x == \"\".join(reversed(x))), Given_Texts)) \n",
    "print(\"\\nList of palindromes:\")\n",
    "print(Result)"
   ]
  },
  {
   "cell_type": "code",
   "execution_count": null,
   "id": "5c4a4945-96e9-4c25-b1a3-80e6a591405c",
   "metadata": {},
   "outputs": [],
   "source": []
  }
 ],
 "metadata": {
  "kernelspec": {
   "display_name": "Python 3 (ipykernel)",
   "language": "python",
   "name": "python3"
  },
  "language_info": {
   "codemirror_mode": {
    "name": "ipython",
    "version": 3
   },
   "file_extension": ".py",
   "mimetype": "text/x-python",
   "name": "python",
   "nbconvert_exporter": "python",
   "pygments_lexer": "ipython3",
   "version": "3.10.8"
  }
 },
 "nbformat": 4,
 "nbformat_minor": 5
}
