{
 "cells": [
  {
   "cell_type": "code",
   "execution_count": 25,
   "id": "4882c4fc-8d6a-42e4-9eed-c651fe48ec39",
   "metadata": {},
   "outputs": [
    {
     "name": "stdin",
     "output_type": "stream",
     "text": [
      "Enter your marks 94\n"
     ]
    },
    {
     "name": "stdout",
     "output_type": "stream",
     "text": [
      "Your grade is A\n"
     ]
    }
   ],
   "source": [
    "#Assignment No.1#\n",
    "Marks_Obtained=int(input(\"Enter your marks\"))\n",
    "if Marks_Obtained >90:\n",
    "    print(\"Your grade is A\")\n",
    "if Marks_Obtained >80 and Marks_Obtained <=90:\n",
    "    print(\"Your grade is B\")\n",
    "if Marks_Obtained >=60 and Marks_Obtained <=80:\n",
    "    print(\"Your grade is C\")\n",
    "if Marks_Obtained <60:\n",
    "    print(\"Your grade is D\")"
   ]
  },
  {
   "cell_type": "code",
   "execution_count": 30,
   "id": "53e0d393-1be1-4175-99b7-9557ade2215b",
   "metadata": {},
   "outputs": [
    {
     "name": "stdin",
     "output_type": "stream",
     "text": [
      "Enter your Bike's Price 75000\n"
     ]
    },
    {
     "name": "stdout",
     "output_type": "stream",
     "text": [
      "Your Payable Road Tax is 10%\n"
     ]
    }
   ],
   "source": [
    "#Assignment2#\n",
    "Cost_Price=int(input(\"Enter your Bike's Price\"))\n",
    "if Cost_Price >100000:\n",
    "    print(\"Your Payable Road Tax is 15%\")\n",
    "elif Cost_Price >50000 and Cost_Price <=100000:\n",
    "    print(\"Your Payable Road Tax is 10%\")\n",
    "else:\n",
    "    print(\"Your Payable Road Tax is 5%\")"
   ]
  },
  {
   "cell_type": "code",
   "execution_count": 34,
   "id": "a5807b90-521f-45e8-b6d3-c8d951d2cfd3",
   "metadata": {},
   "outputs": [
    {
     "name": "stdin",
     "output_type": "stream",
     "text": [
      "Enter your City Name Patna\n"
     ]
    },
    {
     "name": "stdout",
     "output_type": "stream",
     "text": [
      "Your City is not available\n"
     ]
    }
   ],
   "source": [
    "#Assignment3#\n",
    "City=input(\"Enter your City Name\")\n",
    "if City=='Delhi':\n",
    "    print(\"Red Fort\")\n",
    "elif City=='Agra':\n",
    "    print('Taj Mahal')\n",
    "elif City=='Jaipur':\n",
    "    print('Jal Mahal')\n",
    "else:\n",
    "    print(\"Your City is not available\")"
   ]
  },
  {
   "cell_type": "code",
   "execution_count": 4,
   "id": "c9e46217-6696-408c-a8e1-2d4c71700511",
   "metadata": {},
   "outputs": [
    {
     "name": "stdin",
     "output_type": "stream",
     "text": [
      "Enter your number: 12\n"
     ]
    },
    {
     "name": "stdout",
     "output_type": "stream",
     "text": [
      "12 is not divisible by 3\n"
     ]
    }
   ],
   "source": [
    "#Assignment4#\n",
    "num1=int(input(\"Enter your number:\"))\n",
    "if(num1%3==0) and num1<=10:\n",
    "    print(\"{} is divisible by 3\".format(num1))\n",
    "else:\n",
    "    print(\"{} is not divisible by 3\".format(num1))"
   ]
  },
  {
   "cell_type": "code",
   "execution_count": 5,
   "id": "31872081-010e-43f8-8ccb-318460a0b33b",
   "metadata": {},
   "outputs": [
    {
     "name": "stdout",
     "output_type": "stream",
     "text": [
      "1\n",
      "2\n",
      "3\n",
      "4\n",
      "5\n",
      "Total Money:  50 Rupees\n"
     ]
    }
   ],
   "source": [
    "#Assignment5#\n",
    "#While Loop\n",
    "'''\n",
    "-In Python while loop is used where  a statement or multiple statements repeat when a provided condition \n",
    "is True.\n",
    "-Before performing a loop body it check for a condition\n",
    "Example:-'''\n",
    "notes = 5\n",
    "i=1 # starting number intialize\n",
    "while i<=notes:\n",
    "    print(i)\n",
    "    i += 1\n",
    "print('Total Money: ',notes*10,'Rupees')\n"
   ]
  },
  {
   "cell_type": "code",
   "execution_count": 6,
   "id": "7844ff11-2372-4fc6-984c-d9e4d0648715",
   "metadata": {},
   "outputs": [
    {
     "name": "stdout",
     "output_type": "stream",
     "text": [
      "# \n",
      "# # \n",
      "# # # \n",
      "# # # # \n",
      "# # # # # \n",
      "# # # # # # \n",
      "# # # # # # # \n"
     ]
    }
   ],
   "source": [
    "#Assignment6#\n",
    "#Nested while loop\n",
    "'''\n",
    "-This loop is used to create one or more loops inside for or while loop\n",
    "Ex:-1).'''\n",
    "n=7 \n",
    "for i in range(0, n): \n",
    "\n",
    "    for j in range(0, i+1):  \n",
    "\n",
    "        print(\"# \",end=\"\")  \n",
    "\n",
    "    print(\"\\r\")\n"
   ]
  },
  {
   "cell_type": "code",
   "execution_count": 7,
   "id": "39b399a6-5d93-4763-9fee-23bbe022c88a",
   "metadata": {},
   "outputs": [
    {
     "name": "stdout",
     "output_type": "stream",
     "text": [
      "     *\n",
      "    ***\n",
      "   *****\n",
      "  *******\n",
      " *********\n",
      "***********\n"
     ]
    }
   ],
   "source": [
    "#2.\n",
    "num_rows = 6\n",
    "row = 0 \n",
    "while(row < num_rows):\n",
    "    row += 1 \n",
    "    s = num_rows - row \n",
    "\n",
    "    sc = 0 \n",
    "    while(sc < s):\n",
    "        print(\" \", end='')\n",
    "        sc += 1\n",
    "\n",
    "    stars = 2*row-1 \n",
    "    while(stars > 0):\n",
    "        print(\"*\", end='')\n",
    "        stars -= 1\n",
    "\n",
    "    print()"
   ]
  },
  {
   "cell_type": "code",
   "execution_count": 14,
   "id": "0c915fe7-e490-4c61-ae72-d87e2ad9a76c",
   "metadata": {},
   "outputs": [
    {
     "name": "stdout",
     "output_type": "stream",
     "text": [
      "\n",
      "# # \n",
      "# # # # \n",
      "# # # # # # \n",
      "# # # # # # # # \n",
      "# # # # # # # # # # \n",
      "# # # # # # # # # # # # \n",
      "# # # # # # # # # # # # # # \n",
      "# # # # # # # # # # # # # # # # \n",
      "# # # # # # # # # # # # # # # # # # \n"
     ]
    }
   ],
   "source": [
    "#3.\n",
    "n=10 \n",
    "for i in range(0, n): \n",
    "\n",
    "    for j in range(0, i*2):  \n",
    "\n",
    "        print(\"# \",end=\"\")  \n",
    "\n",
    "    print(\"\\r\")"
   ]
  },
  {
   "cell_type": "code",
   "execution_count": null,
   "id": "71c6c8b6-f35a-4ae0-baba-853060077d34",
   "metadata": {},
   "outputs": [],
   "source": [
    "#Assignment7#\n",
    "\n",
    "i = int(input(\"Enter Number\"))\n",
    "rev=0\n",
    "while(i>0):\n",
    "    rev=(rev*10)+i%10:\n",
    "    i=i//10\n",
    "    print(\"Reverse\",rev)\n",
    "\n",
    "\n"
   ]
  },
  {
   "cell_type": "code",
   "execution_count": null,
   "id": "e1561048-3eb3-4bfa-9bcd-9227f9c6fc40",
   "metadata": {},
   "outputs": [],
   "source": []
  }
 ],
 "metadata": {
  "kernelspec": {
   "display_name": "Python 3 (ipykernel)",
   "language": "python",
   "name": "python3"
  },
  "language_info": {
   "codemirror_mode": {
    "name": "ipython",
    "version": 3
   },
   "file_extension": ".py",
   "mimetype": "text/x-python",
   "name": "python",
   "nbconvert_exporter": "python",
   "pygments_lexer": "ipython3",
   "version": "3.10.8"
  }
 },
 "nbformat": 4,
 "nbformat_minor": 5
}
