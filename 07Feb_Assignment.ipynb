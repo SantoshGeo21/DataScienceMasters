{
 "cells": [
  {
   "cell_type": "code",
   "execution_count": 12,
   "id": "987b947f-4af5-4ae6-9270-674de11c8d89",
   "metadata": {},
   "outputs": [],
   "source": [
    "import re"
   ]
  },
  {
   "cell_type": "code",
   "execution_count": 20,
   "id": "2f3e95f7-e992-4b22-8943-42274580a1e8",
   "metadata": {},
   "outputs": [
    {
     "name": "stdin",
     "output_type": "stream",
     "text": [
      "Enter your Password here: SAer@#$12345\n"
     ]
    },
    {
     "name": "stdout",
     "output_type": "stream",
     "text": [
      "Valid Password\n"
     ]
    }
   ],
   "source": [
    "#Q.1 Ans:-\n",
    "Password_Test=input(\"Enter your Password here:\")\n",
    "\n",
    "def Password_Validation(Password_Test):\n",
    "    if len(re.findall('[a-z]', Password_Test)) >= 2 and len(Password_Test) >= 10:\n",
    "        if len(re.findall('[A-Z]', Password_Test)) >= 2:\n",
    "            if len(re.findall('[0-9]', Password_Test)) >= 1:\n",
    "                if len(re.findall('[@$#_]', Password_Test)) >= 3:\n",
    "                    return \"Valid Password\"\n",
    "    return \"Invalid Password\"\n",
    "print(Password_Validation(Password_Test))\n",
    "        "
   ]
  },
  {
   "cell_type": "code",
   "execution_count": 25,
   "id": "11f561c1-e1db-4cd9-8dc6-700ffe3682cc",
   "metadata": {},
   "outputs": [
    {
     "name": "stdout",
     "output_type": "stream",
     "text": [
      "True\n",
      "True\n",
      "True\n",
      "[1, 2, 3, 4, 5, 6, 0]\n",
      "[-1, -2, -3, -4, -5]\n"
     ]
    }
   ],
   "source": [
    "#Q.2 Ans:-\n",
    "#Check if the string starts with a particular letter\n",
    "print((lambda x,y : x[0] == y)('Santosh', 'S'))\n",
    "\n",
    "#Check if the string is numeric\n",
    "print((lambda x: x.isnumeric())('345'))\n",
    "\n",
    "#Sort a list of tuples having fruit names and their quantity. [(\"mango\",99),(\"orange\",80), (\"grapes\", 1000)]\n",
    "nlist = [(\"mango\",99),(\"orange\",80), (\"grapes\", 1000)]\n",
    "nlist.sort(key = lambda x: x[1])\n",
    "\n",
    "#Find the squares of numbers from 1 to 10\n",
    "[i*i for i in range(1, 10+1)]\n",
    "\n",
    "#Find the cube root of numbers from 1 to 10\n",
    "[i*i*i for i in range(1, 10+1)]\n",
    "\n",
    "#Check if a given number is even\n",
    "print((lambda x: x%2==0)(10))\n",
    "\n",
    "#Filter odd numbers from the given list. [1,2,3,4,5,6,7,8,9,10]\n",
    "nlist = [1,2,3,4,5,6,7,8,9,10]\n",
    "list(filter(lambda x: x%2 != 0, nlist))\n",
    "\n",
    "#Sort a list of integers into positive and negative integers lists. [1,2,3,4,5,6,-1,-2,-3,-4,-5,0]\n",
    "nlist = [1,2,3,4,5,6,-1,-2,-3,-4,-5,0]\n",
    "\n",
    "print(list(filter(lambda x: x >= 0, nlist)))\n",
    "\n",
    "print(list(filter(lambda x: x < 0, nlist)))"
   ]
  },
  {
   "cell_type": "code",
   "execution_count": 26,
   "id": "15e3264e-4b5c-4340-965b-87feda2234a1",
   "metadata": {},
   "outputs": [
    {
     "data": {
      "text/plain": [
       "[1, 3, 5, 7, 9]"
      ]
     },
     "execution_count": 26,
     "metadata": {},
     "output_type": "execute_result"
    }
   ],
   "source": [
    "nlist = [1,2,3,4,5,6,7,8,9,10]\n",
    "list(filter(lambda x: x%2 != 0, nlist))"
   ]
  },
  {
   "cell_type": "code",
   "execution_count": 28,
   "id": "0823b3ff-9fb9-4652-a995-5dc882fa8f23",
   "metadata": {},
   "outputs": [
    {
     "name": "stdout",
     "output_type": "stream",
     "text": [
      "False\n"
     ]
    }
   ],
   "source": [
    "print((lambda x: x%2==0)(13))"
   ]
  },
  {
   "cell_type": "code",
   "execution_count": 31,
   "id": "2bd3df05-cd01-4b03-b9d3-1284a931c871",
   "metadata": {},
   "outputs": [
    {
     "data": {
      "text/plain": [
       "[1, 8, 27, 64, 125, 216, 343, 512, 729, 1000]"
      ]
     },
     "execution_count": 31,
     "metadata": {},
     "output_type": "execute_result"
    }
   ],
   "source": [
    "[i*i*i for i in range(1, 10+1)]"
   ]
  },
  {
   "cell_type": "code",
   "execution_count": 30,
   "id": "e01a8e66-ecc7-4f75-a2d5-f3994e41b7cb",
   "metadata": {},
   "outputs": [
    {
     "data": {
      "text/plain": [
       "[1, 4, 9, 16, 25, 36, 49, 64, 81, 100]"
      ]
     },
     "execution_count": 30,
     "metadata": {},
     "output_type": "execute_result"
    }
   ],
   "source": [
    "[i*i for i in range(1, 10+1)]"
   ]
  },
  {
   "cell_type": "code",
   "execution_count": 33,
   "id": "645435c5-5c2a-46e1-b9f3-c2300dd92be8",
   "metadata": {},
   "outputs": [],
   "source": [
    "nlist = [(\"mango\",99),(\"orange\",80), (\"grapes\", 1000)]\n",
    "nlist.sort(key = lambda x: x[1])"
   ]
  },
  {
   "cell_type": "code",
   "execution_count": 34,
   "id": "b6fcc9ea-5d9b-462a-aeed-4bd6c8dbde74",
   "metadata": {},
   "outputs": [
    {
     "name": "stdout",
     "output_type": "stream",
     "text": [
      "True\n"
     ]
    }
   ],
   "source": [
    "print((lambda x: x.isnumeric())('345'))"
   ]
  },
  {
   "cell_type": "code",
   "execution_count": 35,
   "id": "06c7165b-3627-4063-9d20-93d8eb4b24f1",
   "metadata": {},
   "outputs": [
    {
     "name": "stdout",
     "output_type": "stream",
     "text": [
      "True\n"
     ]
    }
   ],
   "source": [
    "print((lambda x,y : x[0] == y)('Santosh', 'S'))"
   ]
  },
  {
   "cell_type": "code",
   "execution_count": null,
   "id": "53b51f6c-a2ba-4fa1-b234-227007e260bf",
   "metadata": {},
   "outputs": [],
   "source": []
  }
 ],
 "metadata": {
  "kernelspec": {
   "display_name": "Python 3 (ipykernel)",
   "language": "python",
   "name": "python3"
  },
  "language_info": {
   "codemirror_mode": {
    "name": "ipython",
    "version": 3
   },
   "file_extension": ".py",
   "mimetype": "text/x-python",
   "name": "python",
   "nbconvert_exporter": "python",
   "pygments_lexer": "ipython3",
   "version": "3.10.8"
  }
 },
 "nbformat": 4,
 "nbformat_minor": 5
}
