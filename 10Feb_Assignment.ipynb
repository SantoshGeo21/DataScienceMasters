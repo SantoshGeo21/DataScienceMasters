{
 "cells": [
  {
   "cell_type": "code",
   "execution_count": null,
   "id": "469b70fc-9776-443f-860f-d9fbd1d2f204",
   "metadata": {},
   "outputs": [],
   "source": [
    "#Q.1 Ans:- \n",
    "'''\n",
    "\"open()\" function is used to open a file.\n",
    "There are three following methods to open a file.\n",
    "1. Read\n",
    "Read the content of the file\n",
    "2. Write\n",
    "Create or re-write the content of the file. It is used to update the file.\n",
    "3. Append\n",
    "Add more contents to the file..\n",
    "\n",
    "'''"
   ]
  },
  {
   "cell_type": "code",
   "execution_count": null,
   "id": "39226f40-bd8d-4ba4-a10a-5d48976f9876",
   "metadata": {},
   "outputs": [],
   "source": [
    "#Q.2 Ans:-\n",
    "'''\n",
    "\"close()\" is a method which is used to close a open file.\n",
    "It is always recommended to close a open file. Due to buffering, changes made to a file will not reflect until we close the file."
   ]
  },
  {
   "cell_type": "code",
   "execution_count": 4,
   "id": "8476f49c-ed7c-4ee5-9645-c9c8c7bb586e",
   "metadata": {},
   "outputs": [],
   "source": [
    "#Q.3 Ans:-\n",
    "\n",
    "file1=open(\"Test.txt\" ,'w')\n"
   ]
  },
  {
   "cell_type": "code",
   "execution_count": 13,
   "id": "a5f75f3c-eddd-49fd-a7a4-2888d5236b50",
   "metadata": {},
   "outputs": [
    {
     "ename": "UnsupportedOperation",
     "evalue": "not writable",
     "output_type": "error",
     "traceback": [
      "\u001b[0;31m---------------------------------------------------------------------------\u001b[0m",
      "\u001b[0;31mUnsupportedOperation\u001b[0m                      Traceback (most recent call last)",
      "Cell \u001b[0;32mIn[13], line 1\u001b[0m\n\u001b[0;32m----> 1\u001b[0m \u001b[43mfile1\u001b[49m\u001b[38;5;241;43m.\u001b[39;49m\u001b[43mwrite\u001b[49m\u001b[43m(\u001b[49m\u001b[38;5;124;43m\"\u001b[39;49m\u001b[38;5;124;43mI want to become a data Scientist\u001b[39;49m\u001b[38;5;124;43m\"\u001b[39;49m\u001b[43m)\u001b[49m\n\u001b[1;32m      2\u001b[0m file1\u001b[38;5;241m.\u001b[39mclose()\n",
      "\u001b[0;31mUnsupportedOperation\u001b[0m: not writable"
     ]
    }
   ],
   "source": [
    "file1.write(\"I want to become a data Scientist\")\n",
    "file1.close()"
   ]
  },
  {
   "cell_type": "code",
   "execution_count": 32,
   "id": "a2b00ac5-a8c2-4d43-a418-27e312a772b1",
   "metadata": {},
   "outputs": [],
   "source": [
    "file1=open(\"Test.txt\" ,'r')"
   ]
  },
  {
   "cell_type": "code",
   "execution_count": 28,
   "id": "5a35eecf-5b5d-458d-a353-d44365935c7f",
   "metadata": {},
   "outputs": [
    {
     "data": {
      "text/plain": [
       "'I want to become a data Scientist'"
      ]
     },
     "execution_count": 28,
     "metadata": {},
     "output_type": "execute_result"
    }
   ],
   "source": [
    "file1.read()\n",
    "#'I want to become a data Scientist'"
   ]
  },
  {
   "cell_type": "code",
   "execution_count": null,
   "id": "590fbe91-f2da-4be8-8948-946c70ec5a5d",
   "metadata": {},
   "outputs": [],
   "source": [
    "#Q.4 Ans:-\n",
    "'''\n",
    "-read()\n",
    "Read all the contents of a file and return as a string.\n",
    "-readline()\n",
    "Reads a defined line of the file and return it in the form of string.\n",
    "-readlines()\n",
    "Reads all the lines at a single go and then return them as each line as a string element in a list."
   ]
  },
  {
   "cell_type": "code",
   "execution_count": 30,
   "id": "302bc366-c871-485a-9786-29b22671567d",
   "metadata": {},
   "outputs": [
    {
     "data": {
      "text/plain": [
       "'I want to become a data Scientist'"
      ]
     },
     "execution_count": 30,
     "metadata": {},
     "output_type": "execute_result"
    }
   ],
   "source": [
    "file1.readline()"
   ]
  },
  {
   "cell_type": "code",
   "execution_count": 33,
   "id": "477afe54-b61e-4ea1-9160-34f470175af1",
   "metadata": {},
   "outputs": [
    {
     "data": {
      "text/plain": [
       "['I want to become a data Scientist']"
      ]
     },
     "execution_count": 33,
     "metadata": {},
     "output_type": "execute_result"
    }
   ],
   "source": [
    "file1.readlines()\n",
    "#['I want to become a data Scientist']"
   ]
  },
  {
   "cell_type": "code",
   "execution_count": 45,
   "id": "08d22209-2ddb-4ee2-ac52-9ed909c27745",
   "metadata": {},
   "outputs": [],
   "source": [
    "#Q.5 Ans:-\n",
    "'''\n",
    "The with keyword in Python is used as a context manager.Its making sure to release these resources after usage and in this way \n",
    "code becomes cleaner and much more readable. Its also make sure that file is closed after usage.\n",
    "\n",
    "Ex:-\n",
    "'''\n",
    "with open('sample3.txt', 'w') as file: \n",
    "    file.write('hello world !') "
   ]
  },
  {
   "cell_type": "code",
   "execution_count": 46,
   "id": "1ff84105-cbee-486e-9af2-f485305fbec5",
   "metadata": {},
   "outputs": [],
   "source": [
    "#Q.6 Ans:-\n",
    "'''\n",
    "'write()' method is used to write a string to an already opened file.\n",
    "Ex:-\n",
    "'''\n",
    "f1 = open(\"test.txt\" ,'w' )\n",
    "f1.write(\"We are PWSkills Data Science Masters course\")\n",
    "f1.close()"
   ]
  },
  {
   "cell_type": "code",
   "execution_count": null,
   "id": "187b895f-60d7-4736-948d-51debfc21dd7",
   "metadata": {},
   "outputs": [],
   "source": [
    "'''\n",
    "'writelines()' method is used to write a list of strings in an opened file.\n",
    "E"
   ]
  }
 ],
 "metadata": {
  "kernelspec": {
   "display_name": "Python 3 (ipykernel)",
   "language": "python",
   "name": "python3"
  },
  "language_info": {
   "codemirror_mode": {
    "name": "ipython",
    "version": 3
   },
   "file_extension": ".py",
   "mimetype": "text/x-python",
   "name": "python",
   "nbconvert_exporter": "python",
   "pygments_lexer": "ipython3",
   "version": "3.10.8"
  }
 },
 "nbformat": 4,
 "nbformat_minor": 5
}
