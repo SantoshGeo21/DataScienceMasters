{
 "cells": [
  {
   "cell_type": "code",
   "execution_count": null,
   "id": "63649cc7-399c-4334-ab4d-9bd68f655f9a",
   "metadata": {},
   "outputs": [],
   "source": [
    "#Q.1 Ans:-\n",
    "'''\n",
    "API stands for Application Programming Interface. Its a software interface that allows two applications to interact with each \n",
    "other without any user intervention or language constraints. \n",
    "\n",
    "Popular API Examples:\n",
    "\n",
    "Google Maps API’s: Google Maps APIs allows developers to use Google Maps on Webpages.\n",
    "YouTube API’s: Google’s API lets developers integrate YouTube and functionality into websites or applications.\n",
    "PhonePe API: Used to interact with banking software for the required function.\n",
    "\n",
    "Usage:-\n",
    "-API helps two different software’s to communicate and exchange data with each other.\n",
    "-Simple, flexible, quickly adopted.\n",
    "-No language or other constraints.\n"
   ]
  },
  {
   "cell_type": "code",
   "execution_count": null,
   "id": "f3f58730-0b2f-4aca-8fb3-bb7b61fbd6df",
   "metadata": {},
   "outputs": [],
   "source": [
    "#Q.2 Ans:-\n",
    "'''\n",
    "Advantages:-\n",
    "\n",
    "Increased Visibility and Traffic.\n",
    "Seamless Integration.\n",
    "Increased Efficiency.\n",
    "Easier Maintenance.\n",
    "\n",
    "Disadvantages:-\n",
    "\n",
    "Increased Complexity.\n",
    "Limited Functionality.\n",
    "Dependency on Third Party Services.\n",
    "Security and Privacy Risks..\n"
   ]
  },
  {
   "cell_type": "code",
   "execution_count": null,
   "id": "55793345-973e-424c-8921-26e2f222217f",
   "metadata": {},
   "outputs": [],
   "source": [
    "#Q.3 Ans:-\n",
    "'''\n",
    "Web API is a subset of API, it can be accessed over the web using the HTTP protocol.\n",
    "\n",
    "A Web API or Web Service API is an application processing interface between a web server and web browser. All web services are \n",
    "APIs but not all APIs are web services. REST API is a special type of Web API that uses the standard architectural style.\n",
    "\n",
    "TCP, SMTP, HTTP protocals are used in API but in Web API only HTTP protol is used.\n"
   ]
  },
  {
   "cell_type": "code",
   "execution_count": null,
   "id": "d8a23396-192d-4725-b1ad-67c4528c036e",
   "metadata": {},
   "outputs": [],
   "source": [
    "#Q.4 Ans:-\n",
    "'''\n",
    "SOAP APIs:-\n",
    "\n",
    "--These APIs use Simple Object Access Protocol. Client and server exchange messages using XML.\n",
    "--This is a less flexible API that was more popular in the past.\n",
    "\n",
    "REST APIs:-\n",
    "\n",
    "--These are the most popular and flexible APIs found on the web today.\n",
    "--The client sends requests to the server as data.\n",
    "--The server uses this client input to start internal functions and returns output data back to the client.\n",
    "\n",
    "Mention shortcomings of SOAP:-\n",
    "\n",
    "--Poorer performance, more complexity, less flexibility.\n",
    "--API calls cannot be cached.\n",
    "--Message format - Only XML."
   ]
  },
  {
   "cell_type": "code",
   "execution_count": null,
   "id": "9abe15a3-8b89-48fe-9cb4-b02b67ed4ccd",
   "metadata": {},
   "outputs": [],
   "source": [
    "#Q.5 Ans:-\n",
    "'''\n",
    "SOAP API:-\n",
    "\n",
    "--Simple Object Access Protocol.\n",
    "--Protocol Used: TCP or SMTP.\n",
    "--Data Transfer: XML (WSDL).\n",
    "--More secure than REST API.\n",
    "--Preffered Choise: Offline application.\n",
    "\n",
    "REST API:-\n",
    "--Representational State Transfer.\n",
    "--Protocol Used: HTTP.\n",
    "--Data Transfer: JSON.\n",
    "--Less secure than SOAP API.\n",
    "--Preffered Choise: Web based application.\n",
    "--Fxn: PUT, GET.\n",
    "--Simple, Scalable and flexible.\n"
   ]
  }
 ],
 "metadata": {
  "kernelspec": {
   "display_name": "Python 3 (ipykernel)",
   "language": "python",
   "name": "python3"
  },
  "language_info": {
   "codemirror_mode": {
    "name": "ipython",
    "version": 3
   },
   "file_extension": ".py",
   "mimetype": "text/x-python",
   "name": "python",
   "nbconvert_exporter": "python",
   "pygments_lexer": "ipython3",
   "version": "3.10.8"
  }
 },
 "nbformat": 4,
 "nbformat_minor": 5
}
