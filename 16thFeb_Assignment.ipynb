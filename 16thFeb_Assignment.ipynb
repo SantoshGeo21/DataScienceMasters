{
 "cells": [
  {
   "cell_type": "code",
   "execution_count": null,
   "id": "afc70764-548c-498f-936b-bad5f8354b15",
   "metadata": {},
   "outputs": [],
   "source": [
    "#Q.1 Ans:-\n",
    "'''\n",
    "Database is an electronic place/system where data is stored in a way that it can be easily accessed, managed, and updated.\n",
    "It is also used to organize the data in the form of a table, schema, views, and reports, etc.\n",
    "\n",
    "Difference between SQL and NoSQL Databases:-\n",
    "\n",
    "\"Relation\"\n",
    "-SQL is a relational database management system.\n",
    "-NoSQL is a non-relational or distributed database management system.\n",
    "\n",
    "\"Model\"\n",
    "-SQL follows the ACID model.\n",
    "-No-SQL follows the BASE model.\n",
    "\n",
    "\"Database type\"\n",
    "-SQL is in the form of tables, i.e., in the form of rows and columns.\n",
    "-NoSQL is in the form of documents, key-value, and graphs.\n",
    "\n",
    "\"Data Type\"\n",
    "-SQL is not the best choice for storing hierarchical data.\n",
    "-NoSQL database is a perfect option for storing hierarchical data.\n",
    "\n",
    "\"Scaling\"\n",
    "-SQL - esay vertical scaling, difficult horizantal scaling.\n",
    "-NoSQL - easy vertical and horizantal scaling.\n"
   ]
  },
  {
   "cell_type": "code",
   "execution_count": null,
   "id": "b044a669-a05f-4666-a2cf-ad80dd145151",
   "metadata": {},
   "outputs": [],
   "source": [
    "#Q.2 Ans:-\n",
    "'''\n",
    "DDL stands for 'Data Definition Language'.\n",
    "\n",
    "Query statements are DDL, that define databases, tables & table structures (CREATE DATABASE, CREATE TABLE) or manage \n",
    "database & table (ALTER DATABASE, DROP DATABASE, ALTER TABLE, DROP TABLE).\n",
    "\n",
    "DDL basically defines the column of the table. DML is used to create database schema\n",
    "\n",
    "CREATE - generates a new table\n",
    "CREATE TABLE Student_info (\n",
    "    College_Id number(2),\n",
    "    College_name varchar(30),\n",
    "    Branch varchar(10)\n",
    ");\n",
    "ALTER - add, delete or change columns in the existing table\n",
    "ALTER TABLE Student_info ADD CGPA number;\n",
    "TRUNCATE - remove all rows from the table, but the structure of the table still exists.\n",
    "TRUNCATE TABLE Student_info;\n",
    "DROP - remove an existing table along with its structure from the Database\n",
    "DROP TABLE Student_info;"
   ]
  },
  {
   "cell_type": "code",
   "execution_count": null,
   "id": "e12cde99-94e0-4e20-8c21-6ea95b9a4ec9",
   "metadata": {},
   "outputs": [],
   "source": [
    "#Q.3 Ans:-\n",
    "'''\n",
    "DML stands for \"Data Manipulation Language\".\n",
    "\n",
    "Query statements that manipulate or fetch data (UPDATE, INSERT, MERGE etc.)\n",
    "\n",
    "DML add or update the row of the table. DML is used to add, retrieve or update the data.\n",
    "\n",
    "INSERT - insert data in database tables.\n",
    "INSERT INTO Student (Stu_id, Stu_Name, Stu_Marks, Stu_Age) VALUES (104, Anmol, 89, 19);  \n",
    "UPDATE - update or modify the existing data in database tables.\n",
    "UPDATE Product SET Product_Price = 80 WHERE Product_Id = 'P102';\n",
    "DELETE - remove single or multiple existing records from the database tables.\n",
    "DELETE FROM Product WHERE Product_Id = 'P202' ;"
   ]
  },
  {
   "cell_type": "code",
   "execution_count": null,
   "id": "9ff59890-6d14-4807-963e-ed1eb0e69963",
   "metadata": {},
   "outputs": [],
   "source": [
    "#Q.4 Ans:-\n",
    "'''\n",
    "DQL stands for Data Query Language, DQL statements are used for performing queries on the data within schema objects.\n",
    "\n",
    "SELECT - shows the records of the specified table\n",
    "SELECT * FROM Student; "
   ]
  },
  {
   "cell_type": "code",
   "execution_count": null,
   "id": "a792d4d9-428f-4490-bb0a-15ced33f9c52",
   "metadata": {},
   "outputs": [],
   "source": [
    "#Q.5 Ans:-\n",
    "'''\n",
    "A column or columns is called \"primary key\" (PK) that uniquely identifies each row in the table.\n",
    "\n",
    "A \"foreign key\" is a field or a column that is used to establish a link between two tables. A foreign key in one table \n",
    "used to point primary key in another table."
   ]
  },
  {
   "cell_type": "code",
   "execution_count": null,
   "id": "c67a360a-39cf-4e14-abe4-62220e49a602",
   "metadata": {},
   "outputs": [],
   "source": [
    "#Q.6 Ans:-\n",
    "'''\n",
    "To execute a SQL query in Python, we need to use a cursor, which abstracts away the access to database records.\n",
    "\n",
    "MySQL Connector/Python provides you with the MySQLCursor class, which instantiates objects that can execute MySQL queries\n",
    "in Python. An instance of the MySQLCursor class is also called a cursor.\n",
    "\n",
    "A query that needs to be executed is sent to cursor.execute() in string format.\n",
    "\n",
    "import mysql.connector\n",
    "# import mysql.connector\n",
    "#create user 'user'@'%' identified by 'password'\n",
    "mydb = mysql.connector.connect(\n",
    "  host=\"localhost\",\n",
    "  user=\"abc\",\n",
    "  password=\"password\"\n",
    ")\n",
    "\n",
    "mycursor = mydb.cursor()\n",
    "\n",
    "mycursor.execute(\"select * from test1.test_table\")\n",
    "for i in mycursor.fetchall():\n",
    "    print(i)\n",
    "\n",
    "mydb.close()"
   ]
  },
  {
   "cell_type": "code",
   "execution_count": null,
   "id": "ada07adc-a8c4-4f0a-91ab-c6c0437053e1",
   "metadata": {},
   "outputs": [],
   "source": []
  }
 ],
 "metadata": {
  "kernelspec": {
   "display_name": "Python 3 (ipykernel)",
   "language": "python",
   "name": "python3"
  },
  "language_info": {
   "codemirror_mode": {
    "name": "ipython",
    "version": 3
   },
   "file_extension": ".py",
   "mimetype": "text/x-python",
   "name": "python",
   "nbconvert_exporter": "python",
   "pygments_lexer": "ipython3",
   "version": "3.10.8"
  }
 },
 "nbformat": 4,
 "nbformat_minor": 5
}
