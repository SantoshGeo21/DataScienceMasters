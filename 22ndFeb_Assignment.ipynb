{
 "cells": [
  {
   "cell_type": "markdown",
   "id": "b1c12926-580a-4f28-8ce6-d970ae74b945",
   "metadata": {},
   "source": [
    "#Solutions:-\n",
    "\n",
    "-->CSV File : https://github.com/SantoshGeo21/Video_Scrapper/blob/main/PW-foundation.csv\n",
    "-->Main deployed branch : https://github.com/SantoshGeo21/Video_Scrapper\n",
    "-->URL of Deployed APP :  https://pwytscrapper.azurewebsites.net/\n",
    "               -- Wait for 30-50 sec to load."
   ]
  }
 ],
 "metadata": {
  "kernelspec": {
   "display_name": "Python 3 (ipykernel)",
   "language": "python",
   "name": "python3"
  },
  "language_info": {
   "codemirror_mode": {
    "name": "ipython",
    "version": 3
   },
   "file_extension": ".py",
   "mimetype": "text/x-python",
   "name": "python",
   "nbconvert_exporter": "python",
   "pygments_lexer": "ipython3",
   "version": "3.10.8"
  }
 },
 "nbformat": 4,
 "nbformat_minor": 5
}
