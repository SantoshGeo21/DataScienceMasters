{
 "cells": [
  {
   "cell_type": "code",
   "execution_count": null,
   "id": "a02ce47c-39f4-472e-9a6e-157edf86a184",
   "metadata": {},
   "outputs": [],
   "source": [
    "#Assignents_Tuple#\n",
    "1.Ans - Tuple in python is the colletcion of various objects like integer,string,float etc but show the concept\n",
    "        of immutability where index of the collection is not changeable. \n",
    "2.Ans - Tuple in python have two following menthods.\n",
    "         i).count-- This method is used to count the number of occurrence of a object in tuple."
   ]
  },
  {
   "cell_type": "code",
   "execution_count": 23,
   "id": "d74a0944-ec56-468d-852d-c7dd8e59b939",
   "metadata": {},
   "outputs": [
    {
     "data": {
      "text/plain": [
       "2"
      ]
     },
     "execution_count": 23,
     "metadata": {},
     "output_type": "execute_result"
    }
   ],
   "source": [
    "#Example#\n",
    "tuple1=(1,2,3,3,4,4,7,8)\n",
    "tuple1.count(3)"
   ]
  },
  {
   "cell_type": "code",
   "execution_count": 24,
   "id": "9cc42b8f-a9d4-4bea-a5b6-9712132c7262",
   "metadata": {},
   "outputs": [
    {
     "data": {
      "text/plain": [
       "1"
      ]
     },
     "execution_count": 24,
     "metadata": {},
     "output_type": "execute_result"
    }
   ],
   "source": [
    "tuple1.count(7)"
   ]
  },
  {
   "cell_type": "code",
   "execution_count": null,
   "id": "2a0bf837-2990-44f6-b91f-b5003d3b64f2",
   "metadata": {},
   "outputs": [],
   "source": [
    "         ii).index-- This method is used to return 1st index of value."
   ]
  },
  {
   "cell_type": "code",
   "execution_count": 27,
   "id": "8a446d13-cdc5-4c37-af83-072bb9ee669b",
   "metadata": {},
   "outputs": [
    {
     "data": {
      "text/plain": [
       "1"
      ]
     },
     "execution_count": 27,
     "metadata": {},
     "output_type": "execute_result"
    }
   ],
   "source": [
    "tuple1.index(2)"
   ]
  },
  {
   "cell_type": "code",
   "execution_count": null,
   "id": "3e07b37c-0849-47ad-8038-05b8f53b6372",
   "metadata": {},
   "outputs": [],
   "source": [
    "          Since other operations are not allowed in tuple. Hence only these two methods are available."
   ]
  },
  {
   "cell_type": "code",
   "execution_count": null,
   "id": "3c34633b-b2c0-4c16-b2de-9c7749c86ec8",
   "metadata": {},
   "outputs": [],
   "source": [
    "3.Ans - 'Set' collection of datatypes don't allow duplicates."
   ]
  },
  {
   "cell_type": "code",
   "execution_count": 1,
   "id": "7368add3-7547-4777-8b2d-03fd41c78e11",
   "metadata": {},
   "outputs": [],
   "source": [
    "#Example#\n",
    "List=[1,1,1,2,1,3,1,4,1,2,2,2,2,3,2,4,3,1,3,2,3,3,3,4,1,4,2,4,3,4,4]"
   ]
  },
  {
   "cell_type": "code",
   "execution_count": 2,
   "id": "f00cf180-baff-4d29-90aa-7b0d003daeee",
   "metadata": {},
   "outputs": [
    {
     "data": {
      "text/plain": [
       "list"
      ]
     },
     "execution_count": 2,
     "metadata": {},
     "output_type": "execute_result"
    }
   ],
   "source": [
    "type(List)"
   ]
  },
  {
   "cell_type": "code",
   "execution_count": 3,
   "id": "7e720077-9f8b-424f-9793-01c7433248a5",
   "metadata": {},
   "outputs": [],
   "source": [
    "A=set(List)"
   ]
  },
  {
   "cell_type": "code",
   "execution_count": 4,
   "id": "719240d1-a834-495a-ad25-beb434a7ee1a",
   "metadata": {},
   "outputs": [
    {
     "data": {
      "text/plain": [
       "{1, 2, 3, 4}"
      ]
     },
     "execution_count": 4,
     "metadata": {},
     "output_type": "execute_result"
    }
   ],
   "source": [
    "A"
   ]
  },
  {
   "cell_type": "code",
   "execution_count": null,
   "id": "1a16aad7-d3bb-42c3-b53a-7a3c8e230e28",
   "metadata": {},
   "outputs": [],
   "source": [
    "4.Ans - Union of Sets is the collection of all the unique elements available in two or more sets.\n",
    "        Ex:-"
   ]
  },
  {
   "cell_type": "code",
   "execution_count": 6,
   "id": "8cc6872b-44ec-4dcc-b59d-a06e66f48f10",
   "metadata": {},
   "outputs": [],
   "source": [
    "        A={1,2,4,6,8,10}\n",
    "        B={2,4,6,8,9}"
   ]
  },
  {
   "cell_type": "code",
   "execution_count": 7,
   "id": "d5fe0e01-c932-4f2d-9bea-d6e9ffe1616e",
   "metadata": {},
   "outputs": [
    {
     "data": {
      "text/plain": [
       "{1, 2, 4, 6, 8, 9, 10}"
      ]
     },
     "execution_count": 7,
     "metadata": {},
     "output_type": "execute_result"
    }
   ],
   "source": [
    "        A.union(B)"
   ]
  },
  {
   "cell_type": "code",
   "execution_count": null,
   "id": "012f2e2c-7aaf-4c8e-b443-ca9d166e1b13",
   "metadata": {},
   "outputs": [],
   "source": [
    "        Update method is used to set with the union of itself and others.\n",
    "        Ex:-"
   ]
  },
  {
   "cell_type": "code",
   "execution_count": 13,
   "id": "8b3dd019-12ca-46d3-976f-0b8ca3edd1fc",
   "metadata": {},
   "outputs": [],
   "source": [
    "        B.update(A)"
   ]
  },
  {
   "cell_type": "code",
   "execution_count": 14,
   "id": "6f01fde2-4f61-4822-af69-eb289f92d242",
   "metadata": {},
   "outputs": [
    {
     "data": {
      "text/plain": [
       "{1, 2, 4, 6, 8, 9, 10}"
      ]
     },
     "execution_count": 14,
     "metadata": {},
     "output_type": "execute_result"
    }
   ],
   "source": [
    "        B"
   ]
  },
  {
   "cell_type": "code",
   "execution_count": null,
   "id": "7709d6f2-3967-4676-82a2-027a37fb9824",
   "metadata": {},
   "outputs": [],
   "source": [
    "5.Ans - Dictionary is the collections of objects stored in ordered way in form of 'Key','Value' pairs\n",
    "        where key will always be an unique element.\n",
    "        Ex:-"
   ]
  },
  {
   "cell_type": "code",
   "execution_count": 18,
   "id": "1b97b541-c60d-418a-bd79-331bb27bf213",
   "metadata": {},
   "outputs": [],
   "source": [
    "        dict_1 = {\"name\" : \"avilash\" , \"emiil_id\" : \"avlash@gmail.com\" , \"number\" :456782}"
   ]
  },
  {
   "cell_type": "code",
   "execution_count": 19,
   "id": "b1d7a3c4-9e5f-42c0-b43f-4c0c1dcb3c3c",
   "metadata": {},
   "outputs": [
    {
     "data": {
      "text/plain": [
       "{'name': 'avilash', 'emiil_id': 'avlash@gmail.com', 'number': 456782}"
      ]
     },
     "execution_count": 19,
     "metadata": {},
     "output_type": "execute_result"
    }
   ],
   "source": [
    "        dict_1"
   ]
  },
  {
   "cell_type": "code",
   "execution_count": 17,
   "id": "4315d652-a598-492d-861b-aaca91d0bb85",
   "metadata": {},
   "outputs": [
    {
     "data": {
      "text/plain": [
       "dict"
      ]
     },
     "execution_count": 17,
     "metadata": {},
     "output_type": "execute_result"
    }
   ],
   "source": [
    "        type(dict_1)"
   ]
  },
  {
   "cell_type": "code",
   "execution_count": null,
   "id": "d45e498e-74c4-4a51-95b5-b624c548fcf8",
   "metadata": {},
   "outputs": [],
   "source": [
    "6.Ans - A dictionary which contain dictionaries, known as nested dictionary.\n",
    "        Ex:-"
   ]
  },
  {
   "cell_type": "code",
   "execution_count": 22,
   "id": "82ef771d-7426-4eb7-b263-a73535216507",
   "metadata": {},
   "outputs": [],
   "source": [
    "   myfamily = {\n",
    "  \"child1\" : {\n",
    "    \"name\" : \"Siri\",\n",
    "    \"year\" : 2003\n",
    "  },\n",
    "  \"child2\" : {\n",
    "    \"name\" : \"Avi\",\n",
    "    \"year\" : 1999\n",
    "  },\n",
    "  \"child3\" : {\n",
    "    \"name\" : \"Lisa\",\n",
    "    \"year\" : 2008\n",
    "  }\n",
    "}"
   ]
  },
  {
   "cell_type": "code",
   "execution_count": 23,
   "id": "53f9b2b2-9bea-41b2-a3ec-409da8c4dda7",
   "metadata": {},
   "outputs": [
    {
     "data": {
      "text/plain": [
       "{'child1': {'name': 'Siri', 'year': 2003},\n",
       " 'child2': {'name': 'Avi', 'year': 1999},\n",
       " 'child3': {'name': 'Lisa', 'year': 2008}}"
      ]
     },
     "execution_count": 23,
     "metadata": {},
     "output_type": "execute_result"
    }
   ],
   "source": [
    "myfamily"
   ]
  },
  {
   "cell_type": "code",
   "execution_count": 27,
   "id": "3dc3a910-ebc7-4983-9107-5c723ce18a3c",
   "metadata": {},
   "outputs": [],
   "source": [
    "#7.Ans - \n",
    "dict1 = {'language' : 'Python', 'course': 'Data Science Masters'}"
   ]
  },
  {
   "cell_type": "code",
   "execution_count": 48,
   "id": "fc401e89-7ef0-4f9e-9829-9cc6e1abc77d",
   "metadata": {},
   "outputs": [],
   "source": [
    "dict1['Topic']= ['Python','Machine Learning','Deep Learning']"
   ]
  },
  {
   "cell_type": "code",
   "execution_count": 53,
   "id": "6327af4c-4cd6-4ceb-8d8e-2683142fd556",
   "metadata": {},
   "outputs": [
    {
     "data": {
      "text/plain": [
       "{'language': 'Python',\n",
       " 'course': 'Data Science Masters',\n",
       " 'Topic': ['Python', 'Machine Learning', 'Deep Learning']}"
      ]
     },
     "execution_count": 53,
     "metadata": {},
     "output_type": "execute_result"
    }
   ],
   "source": [
    "dict1"
   ]
  },
  {
   "cell_type": "code",
   "execution_count": 2,
   "id": "d10d8558-2dc3-4c2e-9bb0-a5582fbc6e11",
   "metadata": {},
   "outputs": [],
   "source": [
    "#8.Ans - \n",
    "dict2 = {'Sport': 'Cricket' , 'Teams': ['India', 'Australia', 'England', 'South Africa', 'Sri Lanka', 'New Zealand']}\n",
    "#Three view Objects\n",
    "#key,value and items"
   ]
  },
  {
   "cell_type": "code",
   "execution_count": 5,
   "id": "42180f97-e06d-4507-8d13-30e090bf3ffe",
   "metadata": {},
   "outputs": [
    {
     "data": {
      "text/plain": [
       "'Cricket'"
      ]
     },
     "execution_count": 5,
     "metadata": {},
     "output_type": "execute_result"
    }
   ],
   "source": [
    "dict2['Sport']#Key"
   ]
  },
  {
   "cell_type": "code",
   "execution_count": 6,
   "id": "82f16c59-6263-4061-bda3-c7e3108406a7",
   "metadata": {},
   "outputs": [
    {
     "data": {
      "text/plain": [
       "['India', 'Australia', 'England', 'South Africa', 'Sri Lanka', 'New Zealand']"
      ]
     },
     "execution_count": 6,
     "metadata": {},
     "output_type": "execute_result"
    }
   ],
   "source": [
    "dict2['Teams']#Key"
   ]
  },
  {
   "cell_type": "code",
   "execution_count": 22,
   "id": "ee6021a5-3a85-4780-bc7c-b1c4bf459598",
   "metadata": {},
   "outputs": [
    {
     "data": {
      "text/plain": [
       "dict_keys(['Sport', 'Teams'])"
      ]
     },
     "execution_count": 22,
     "metadata": {},
     "output_type": "execute_result"
    }
   ],
   "source": [
    "dict2.keys()"
   ]
  },
  {
   "cell_type": "code",
   "execution_count": 23,
   "id": "242317b6-e3d0-40d7-a745-69767e95cc42",
   "metadata": {},
   "outputs": [
    {
     "data": {
      "text/plain": [
       "dict_values(['Cricket', ['India', 'Australia', 'England', 'South Africa', 'Sri Lanka', 'New Zealand']])"
      ]
     },
     "execution_count": 23,
     "metadata": {},
     "output_type": "execute_result"
    }
   ],
   "source": [
    "dict2.values()"
   ]
  },
  {
   "cell_type": "code",
   "execution_count": 24,
   "id": "c120a9e9-c435-4605-afd9-95c445c3c33b",
   "metadata": {},
   "outputs": [
    {
     "data": {
      "text/plain": [
       "dict_items([('Sport', 'Cricket'), ('Teams', ['India', 'Australia', 'England', 'South Africa', 'Sri Lanka', 'New Zealand'])])"
      ]
     },
     "execution_count": 24,
     "metadata": {},
     "output_type": "execute_result"
    }
   ],
   "source": [
    "dict2.items()"
   ]
  },
  {
   "cell_type": "code",
   "execution_count": null,
   "id": "019253f9-07cf-4ee0-9a91-eb3243d5e209",
   "metadata": {},
   "outputs": [],
   "source": []
  }
 ],
 "metadata": {
  "kernelspec": {
   "display_name": "Python 3 (ipykernel)",
   "language": "python",
   "name": "python3"
  },
  "language_info": {
   "codemirror_mode": {
    "name": "ipython",
    "version": 3
   },
   "file_extension": ".py",
   "mimetype": "text/x-python",
   "name": "python",
   "nbconvert_exporter": "python",
   "pygments_lexer": "ipython3",
   "version": "3.10.8"
  }
 },
 "nbformat": 4,
 "nbformat_minor": 5
}
