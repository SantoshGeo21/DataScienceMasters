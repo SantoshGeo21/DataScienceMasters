{
 "cells": [
  {
   "cell_type": "code",
   "execution_count": null,
   "id": "760bf5d3-7d5a-4525-b30e-e17f5a9195d0",
   "metadata": {},
   "outputs": [],
   "source": [
    "##Functions##\n",
    "\n",
    "1.Ans- 'Def' is a keyword which is used to create a function in Python.\n",
    "        Ex:-\n"
   ]
  },
  {
   "cell_type": "code",
   "execution_count": 22,
   "id": "9db31bab-aff4-4d52-956b-dd03cb862a0a",
   "metadata": {},
   "outputs": [],
   "source": [
    "def Odd_Num():\n",
    "    for i in range (1,25):\n",
    "        if (i%2)!=0:\n",
    "            print(i)"
   ]
  },
  {
   "cell_type": "code",
   "execution_count": 23,
   "id": "24783ece-2e57-40a8-8321-90a235b9025c",
   "metadata": {},
   "outputs": [
    {
     "name": "stdout",
     "output_type": "stream",
     "text": [
      "1\n",
      "3\n",
      "5\n",
      "7\n",
      "9\n",
      "11\n",
      "13\n",
      "15\n",
      "17\n",
      "19\n",
      "21\n",
      "23\n"
     ]
    }
   ],
   "source": [
    "Odd_Num()"
   ]
  },
  {
   "cell_type": "code",
   "execution_count": null,
   "id": "60b9555d-ea17-4077-99cb-882c997ef5f8",
   "metadata": {},
   "outputs": [],
   "source": [
    "2.Ans - '*args' in function definitions in python is used to pass a variable number of arguments to a function.\n",
    "         It is used to pass a non-key worded, variable-length argument list. '*args' allows us take in more \n",
    "        arguments than the number of formal arguments that we previously defined. With '*args', any number of \n",
    "        extra arguments can be tacked on to your current formal parameters (including zero extra arguments).\n",
    "        Ex:-"
   ]
  },
  {
   "cell_type": "code",
   "execution_count": 37,
   "id": "f44c3739-f1d3-4fa5-b6b6-eb5a17410ea1",
   "metadata": {},
   "outputs": [],
   "source": [
    "def args_test(*args):\n",
    "    return args"
   ]
  },
  {
   "cell_type": "code",
   "execution_count": 38,
   "id": "c05e3f12-1aa1-4e09-9f41-d86c90e4d7d8",
   "metadata": {},
   "outputs": [
    {
     "data": {
      "text/plain": [
       "(1, 2, 'a', 'b', 9, 't')"
      ]
     },
     "execution_count": 38,
     "metadata": {},
     "output_type": "execute_result"
    }
   ],
   "source": [
    "args_test(1,2,'a','b',9,'t')"
   ]
  },
  {
   "cell_type": "code",
   "execution_count": null,
   "id": "66636c73-0210-4270-a107-08b80ac78b02",
   "metadata": {},
   "outputs": [],
   "source": [
    "       '**kwargs' in function definitions in python is used to pass a keyworded, variable-length argument \n",
    "       list. We use the name kwargs with the double star. The reason is that the double star allows us to pass\n",
    "       through keyword arguments (and any number of them).\n",
    "       Ex:-"
   ]
  },
  {
   "cell_type": "code",
   "execution_count": 39,
   "id": "818ffbe1-633b-4b92-a40f-665ca7815a38",
   "metadata": {},
   "outputs": [],
   "source": [
    "#Function to extract only list elements from the given arguments\n",
    "def kwargs_Test(**kwargs):\n",
    "    for i in kwargs.keys():\n",
    "        if type(kwargs[i] ) == list :\n",
    "            return i , kwargs[i]"
   ]
  },
  {
   "cell_type": "code",
   "execution_count": 40,
   "id": "d14ede1d-51b6-4543-81c5-020f66c4ca68",
   "metadata": {},
   "outputs": [
    {
     "data": {
      "text/plain": [
       "('c', [1, 2, 3, 4])"
      ]
     },
     "execution_count": 40,
     "metadata": {},
     "output_type": "execute_result"
    }
   ],
   "source": [
    "kwargs_Test(a = 34 , b = 23 , c = [1,2,3,4] , d = (\"sudh\" , \"pwskills\"))"
   ]
  },
  {
   "cell_type": "code",
   "execution_count": null,
   "id": "f06bd4cf-4677-4a67-914b-4c9dd5b60111",
   "metadata": {},
   "outputs": [],
   "source": [
    "3.Ans - An iterator in python is an object which contains a countable number of values.It can be traverse\n",
    "        through all the given values.\n",
    "        Technically its consist of the methods _iter__() and __next__().\n",
    "        'for loop' is generally used as an iterator in python."
   ]
  },
  {
   "cell_type": "code",
   "execution_count": 49,
   "id": "fd9dd667-8934-4de2-aea5-329153d2fa50",
   "metadata": {},
   "outputs": [
    {
     "name": "stdout",
     "output_type": "stream",
     "text": [
      "2\n",
      "4\n",
      "6\n",
      "8\n",
      "10\n"
     ]
    }
   ],
   "source": [
    "list_given=[2,4,6,8,10,12,14,16,18,20]\n",
    "for i in list_given:\n",
    "    if i < 12: #Excluding the sixth object from list\n",
    "        print(i)"
   ]
  },
  {
   "cell_type": "code",
   "execution_count": null,
   "id": "93d83724-e99e-4a62-b2f0-eadba71b3dce",
   "metadata": {},
   "outputs": [],
   "source": [
    "4.Ans - A generator-function is defined like a normal function, but whenever it needs to generate a value, it \n",
    "        does so with the yield keyword rather than return. If the body of a def contains yield, the function \n",
    "        automatically becomes a generator function.\n",
    "    Ex:-"
   ]
  },
  {
   "cell_type": "code",
   "execution_count": 9,
   "id": "0d2cb1b9-1694-4388-98b9-5d6a9dd65c7d",
   "metadata": {},
   "outputs": [],
   "source": [
    "def test_gen(n) :\n",
    "    a,b = 0,1\n",
    "    for i in range(n):\n",
    "        yield a \n",
    "        a,b = b ,a+b*b"
   ]
  },
  {
   "cell_type": "code",
   "execution_count": 4,
   "id": "c192ad53-351f-42c3-83ff-3057b1ff5ecd",
   "metadata": {},
   "outputs": [
    {
     "data": {
      "text/plain": [
       "<generator object test_gen at 0x7f744eab9d90>"
      ]
     },
     "execution_count": 4,
     "metadata": {},
     "output_type": "execute_result"
    }
   ],
   "source": [
    "test_gen(7)"
   ]
  },
  {
   "cell_type": "code",
   "execution_count": 10,
   "id": "babd6714-5814-4c4d-8366-bd48bf15c507",
   "metadata": {},
   "outputs": [
    {
     "name": "stdout",
     "output_type": "stream",
     "text": [
      "0\n",
      "1\n",
      "1\n",
      "2\n",
      "5\n",
      "27\n",
      "734\n",
      "538783\n",
      "290287121823\n",
      "84266613096281243382112\n"
     ]
    }
   ],
   "source": [
    "for i in test_gen(10):\n",
    "    print (i)"
   ]
  },
  {
   "cell_type": "code",
   "execution_count": 10,
   "id": "ff287960-b466-40c5-99a3-4b6271028fbb",
   "metadata": {},
   "outputs": [],
   "source": [
    "#5.Ans - \n",
    "\n",
    "def prime_gen(n) :\n",
    "    for i in range(n):\n",
    "        yield i\n",
    "        i%2!=0"
   ]
  },
  {
   "cell_type": "code",
   "execution_count": null,
   "id": "cd5065f3-79db-49e2-bd3c-a9340dae88a7",
   "metadata": {},
   "outputs": [],
   "source": [
    "for i in prime_gen(100):\n",
    "    i%2!=0\n",
    "    print(i)"
   ]
  }
 ],
 "metadata": {
  "kernelspec": {
   "display_name": "Python 3 (ipykernel)",
   "language": "python",
   "name": "python3"
  },
  "language_info": {
   "codemirror_mode": {
    "name": "ipython",
    "version": 3
   },
   "file_extension": ".py",
   "mimetype": "text/x-python",
   "name": "python",
   "nbconvert_exporter": "python",
   "pygments_lexer": "ipython3",
   "version": "3.10.8"
  }
 },
 "nbformat": 4,
 "nbformat_minor": 5
}
